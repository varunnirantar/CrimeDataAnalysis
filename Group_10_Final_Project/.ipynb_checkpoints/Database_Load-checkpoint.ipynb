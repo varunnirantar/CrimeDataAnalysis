{
 "metadata": {
  "kernelspec": {
   "codemirror_mode": {
    "name": "ipython",
    "version": 2
   },
   "display_name": "IPython (Python 2)",
   "language": "python",
   "name": "python2"
  },
  "name": "",
  "signature": "sha256:92cbc1e04499e7ed3d08631a575e2adc345c41184d619c5e2ea6fef17ea2f6ca"
 },
 "nbformat": 3,
 "nbformat_minor": 0,
 "worksheets": [
  {
   "cells": [
    {
     "cell_type": "markdown",
     "metadata": {},
     "source": [
      "#Database load:\n",
      "\n",
      "This program will read all required CSV files and load into a SQLLITE database\n",
      "It reads the following csv files and creates tables as given below (csv file in the left and table name in the right)\n",
      " \n",
      "Alameda County Crime.csv ==> alc_crimes\n",
      "OPD.csv (Oakland Crime Data) ==> opd_crimes\n",
      "Zip_MedianSoldPrice_Alameda.csv (median home prices for various zip codes) ==> Zip_Median\n",
      "School.csv (school ratings for Alameda County) ==> School\n",
      "\n",
      "This program drops NaNs and also drops unwanted columns "
     ]
    },
    {
     "cell_type": "heading",
     "level": 3,
     "metadata": {},
     "source": [
      "Note; Before running this program, delete the crime_analysis.db file from the home directory where this notebook is located. "
     ]
    },
    {
     "cell_type": "heading",
     "level": 3,
     "metadata": {},
     "source": [
      "Additonal note: Execution of this program will take considerable time (about 5 to 10 minutes) as it loads big tables"
     ]
    },
    {
     "cell_type": "code",
     "collapsed": false,
     "input": [
      "%matplotlib inline\n",
      "import matplotlib.pyplot as plt\n",
      "import numpy as np\n",
      "import pandas as pd\n",
      "from datetime import datetime"
     ],
     "language": "python",
     "metadata": {},
     "outputs": [],
     "prompt_number": 47
    },
    {
     "cell_type": "code",
     "collapsed": false,
     "input": [
      "from sqlalchemy import create_engine \n",
      "# If you are managing big data in a bank, you need this."
     ],
     "language": "python",
     "metadata": {},
     "outputs": [],
     "prompt_number": 48
    },
    {
     "cell_type": "code",
     "collapsed": false,
     "input": [
      "te = create_engine('sqlite:///crime_analysis.db')"
     ],
     "language": "python",
     "metadata": {},
     "outputs": [],
     "prompt_number": 49
    },
    {
     "cell_type": "code",
     "collapsed": false,
     "input": [
      "from pandas.io import sql"
     ],
     "language": "python",
     "metadata": {},
     "outputs": [],
     "prompt_number": 50
    },
    {
     "cell_type": "code",
     "collapsed": false,
     "input": [
      "# Import Pandas and then load the Alameda County Crime Data\n",
      "from pandas import read_csv, DataFrame\n",
      "ALC_Crime = read_csv('Cleaned_Data\\Alameda County Crime.csv')\n",
      "x = pd.DatetimeIndex(ALC_Crime.DateTime)\n",
      "ALC_Crime['date'] = x.date\n",
      "ALC_Crime['time'] = x.time\n",
      "del(ALC_Crime['DateTime'])"
     ],
     "language": "python",
     "metadata": {},
     "outputs": [],
     "prompt_number": 51
    },
    {
     "cell_type": "code",
     "collapsed": false,
     "input": [
      "ALC_Crime.head()"
     ],
     "language": "python",
     "metadata": {},
     "outputs": [
      {
       "html": [
        "<div style=\"max-height:1000px;max-width:1500px;overflow:auto;\">\n",
        "<table border=\"1\" class=\"dataframe\">\n",
        "  <thead>\n",
        "    <tr style=\"text-align: right;\">\n",
        "      <th></th>\n",
        "      <th>Block</th>\n",
        "      <th>City</th>\n",
        "      <th>State</th>\n",
        "      <th>Zip</th>\n",
        "      <th>CrimeCode</th>\n",
        "      <th>CrimeDescription</th>\n",
        "      <th>AgencyId</th>\n",
        "      <th>CrimeId</th>\n",
        "      <th>Location 1</th>\n",
        "      <th>date</th>\n",
        "      <th>time</th>\n",
        "    </tr>\n",
        "  </thead>\n",
        "  <tbody>\n",
        "    <tr>\n",
        "      <th>0</th>\n",
        "      <td>    18900 TIMES AV</td>\n",
        "      <td>   SAN LORENZO</td>\n",
        "      <td> CA</td>\n",
        "      <td> 94541</td>\n",
        "      <td> 290</td>\n",
        "      <td>    VANDALISM ($400 OR MORE)</td>\n",
        "      <td> ACSO</td>\n",
        "      <td> 12000048</td>\n",
        "      <td> (37.67705445, -122.11298064)</td>\n",
        "      <td> 2012-01-01</td>\n",
        "      <td> 00:01:00</td>\n",
        "    </tr>\n",
        "    <tr>\n",
        "      <th>1</th>\n",
        "      <td>  21000 SHERMAN DR</td>\n",
        "      <td> CASTRO VALLEY</td>\n",
        "      <td> CA</td>\n",
        "      <td> 94552</td>\n",
        "      <td> 250</td>\n",
        "      <td>                     FORGERY</td>\n",
        "      <td> ACSO</td>\n",
        "      <td> 13006643</td>\n",
        "      <td> (37.71437982, -122.02231781)</td>\n",
        "      <td> 2012-01-01</td>\n",
        "      <td> 00:01:00</td>\n",
        "    </tr>\n",
        "    <tr>\n",
        "      <th>2</th>\n",
        "      <td> A ST / MISSION BL</td>\n",
        "      <td>       HAYWARD</td>\n",
        "      <td> CA</td>\n",
        "      <td> 94541</td>\n",
        "      <td> 999</td>\n",
        "      <td> REPORT NUMBER WAS CANCELLED</td>\n",
        "      <td> ACSO</td>\n",
        "      <td> 11021284</td>\n",
        "      <td> (37.66655037, -122.10000611)</td>\n",
        "      <td> 2012-01-01</td>\n",
        "      <td> 00:03:00</td>\n",
        "    </tr>\n",
        "    <tr>\n",
        "      <th>3</th>\n",
        "      <td> A ST / MISSION BL</td>\n",
        "      <td>       HAYWARD</td>\n",
        "      <td> CA</td>\n",
        "      <td> 94541</td>\n",
        "      <td> 999</td>\n",
        "      <td> REPORT NUMBER WAS CANCELLED</td>\n",
        "      <td> ACSO</td>\n",
        "      <td> 12000010</td>\n",
        "      <td> (37.66655037, -122.10000611)</td>\n",
        "      <td> 2012-01-01</td>\n",
        "      <td> 00:03:00</td>\n",
        "    </tr>\n",
        "    <tr>\n",
        "      <th>4</th>\n",
        "      <td> A ST / MISSION BL</td>\n",
        "      <td>       HAYWARD</td>\n",
        "      <td> CA</td>\n",
        "      <td> 94541</td>\n",
        "      <td> 90D</td>\n",
        "      <td>           DUI ALCOHOL/DRUGS</td>\n",
        "      <td> ACSO</td>\n",
        "      <td> 11021283</td>\n",
        "      <td> (37.66655037, -122.10000611)</td>\n",
        "      <td> 2012-01-01</td>\n",
        "      <td> 00:03:00</td>\n",
        "    </tr>\n",
        "  </tbody>\n",
        "</table>\n",
        "</div>"
       ],
       "metadata": {},
       "output_type": "pyout",
       "prompt_number": 52,
       "text": [
        "               Block           City State    Zip CrimeCode  \\\n",
        "0     18900 TIMES AV    SAN LORENZO    CA  94541       290   \n",
        "1   21000 SHERMAN DR  CASTRO VALLEY    CA  94552       250   \n",
        "2  A ST / MISSION BL        HAYWARD    CA  94541       999   \n",
        "3  A ST / MISSION BL        HAYWARD    CA  94541       999   \n",
        "4  A ST / MISSION BL        HAYWARD    CA  94541       90D   \n",
        "\n",
        "              CrimeDescription AgencyId   CrimeId  \\\n",
        "0     VANDALISM ($400 OR MORE)     ACSO  12000048   \n",
        "1                      FORGERY     ACSO  13006643   \n",
        "2  REPORT NUMBER WAS CANCELLED     ACSO  11021284   \n",
        "3  REPORT NUMBER WAS CANCELLED     ACSO  12000010   \n",
        "4            DUI ALCOHOL/DRUGS     ACSO  11021283   \n",
        "\n",
        "                     Location 1        date      time  \n",
        "0  (37.67705445, -122.11298064)  2012-01-01  00:01:00  \n",
        "1  (37.71437982, -122.02231781)  2012-01-01  00:01:00  \n",
        "2  (37.66655037, -122.10000611)  2012-01-01  00:03:00  \n",
        "3  (37.66655037, -122.10000611)  2012-01-01  00:03:00  \n",
        "4  (37.66655037, -122.10000611)  2012-01-01  00:03:00  "
       ]
      }
     ],
     "prompt_number": 52
    },
    {
     "cell_type": "code",
     "collapsed": false,
     "input": [
      "ALC_Crime = ALC_Crime.dropna()\n",
      "len(ALC_Crime)"
     ],
     "language": "python",
     "metadata": {},
     "outputs": [
      {
       "metadata": {},
       "output_type": "pyout",
       "prompt_number": 53,
       "text": [
        "50981"
       ]
      }
     ],
     "prompt_number": 53
    },
    {
     "cell_type": "code",
     "collapsed": false,
     "input": [
      "ALC_Crime.head()"
     ],
     "language": "python",
     "metadata": {},
     "outputs": [
      {
       "html": [
        "<div style=\"max-height:1000px;max-width:1500px;overflow:auto;\">\n",
        "<table border=\"1\" class=\"dataframe\">\n",
        "  <thead>\n",
        "    <tr style=\"text-align: right;\">\n",
        "      <th></th>\n",
        "      <th>Block</th>\n",
        "      <th>City</th>\n",
        "      <th>State</th>\n",
        "      <th>Zip</th>\n",
        "      <th>CrimeCode</th>\n",
        "      <th>CrimeDescription</th>\n",
        "      <th>AgencyId</th>\n",
        "      <th>CrimeId</th>\n",
        "      <th>Location 1</th>\n",
        "      <th>date</th>\n",
        "      <th>time</th>\n",
        "    </tr>\n",
        "  </thead>\n",
        "  <tbody>\n",
        "    <tr>\n",
        "      <th>0</th>\n",
        "      <td>    18900 TIMES AV</td>\n",
        "      <td>   SAN LORENZO</td>\n",
        "      <td> CA</td>\n",
        "      <td> 94541</td>\n",
        "      <td> 290</td>\n",
        "      <td>    VANDALISM ($400 OR MORE)</td>\n",
        "      <td> ACSO</td>\n",
        "      <td> 12000048</td>\n",
        "      <td> (37.67705445, -122.11298064)</td>\n",
        "      <td> 2012-01-01</td>\n",
        "      <td> 00:01:00</td>\n",
        "    </tr>\n",
        "    <tr>\n",
        "      <th>1</th>\n",
        "      <td>  21000 SHERMAN DR</td>\n",
        "      <td> CASTRO VALLEY</td>\n",
        "      <td> CA</td>\n",
        "      <td> 94552</td>\n",
        "      <td> 250</td>\n",
        "      <td>                     FORGERY</td>\n",
        "      <td> ACSO</td>\n",
        "      <td> 13006643</td>\n",
        "      <td> (37.71437982, -122.02231781)</td>\n",
        "      <td> 2012-01-01</td>\n",
        "      <td> 00:01:00</td>\n",
        "    </tr>\n",
        "    <tr>\n",
        "      <th>2</th>\n",
        "      <td> A ST / MISSION BL</td>\n",
        "      <td>       HAYWARD</td>\n",
        "      <td> CA</td>\n",
        "      <td> 94541</td>\n",
        "      <td> 999</td>\n",
        "      <td> REPORT NUMBER WAS CANCELLED</td>\n",
        "      <td> ACSO</td>\n",
        "      <td> 11021284</td>\n",
        "      <td> (37.66655037, -122.10000611)</td>\n",
        "      <td> 2012-01-01</td>\n",
        "      <td> 00:03:00</td>\n",
        "    </tr>\n",
        "    <tr>\n",
        "      <th>3</th>\n",
        "      <td> A ST / MISSION BL</td>\n",
        "      <td>       HAYWARD</td>\n",
        "      <td> CA</td>\n",
        "      <td> 94541</td>\n",
        "      <td> 999</td>\n",
        "      <td> REPORT NUMBER WAS CANCELLED</td>\n",
        "      <td> ACSO</td>\n",
        "      <td> 12000010</td>\n",
        "      <td> (37.66655037, -122.10000611)</td>\n",
        "      <td> 2012-01-01</td>\n",
        "      <td> 00:03:00</td>\n",
        "    </tr>\n",
        "    <tr>\n",
        "      <th>4</th>\n",
        "      <td> A ST / MISSION BL</td>\n",
        "      <td>       HAYWARD</td>\n",
        "      <td> CA</td>\n",
        "      <td> 94541</td>\n",
        "      <td> 90D</td>\n",
        "      <td>           DUI ALCOHOL/DRUGS</td>\n",
        "      <td> ACSO</td>\n",
        "      <td> 11021283</td>\n",
        "      <td> (37.66655037, -122.10000611)</td>\n",
        "      <td> 2012-01-01</td>\n",
        "      <td> 00:03:00</td>\n",
        "    </tr>\n",
        "  </tbody>\n",
        "</table>\n",
        "</div>"
       ],
       "metadata": {},
       "output_type": "pyout",
       "prompt_number": 54,
       "text": [
        "               Block           City State    Zip CrimeCode  \\\n",
        "0     18900 TIMES AV    SAN LORENZO    CA  94541       290   \n",
        "1   21000 SHERMAN DR  CASTRO VALLEY    CA  94552       250   \n",
        "2  A ST / MISSION BL        HAYWARD    CA  94541       999   \n",
        "3  A ST / MISSION BL        HAYWARD    CA  94541       999   \n",
        "4  A ST / MISSION BL        HAYWARD    CA  94541       90D   \n",
        "\n",
        "              CrimeDescription AgencyId   CrimeId  \\\n",
        "0     VANDALISM ($400 OR MORE)     ACSO  12000048   \n",
        "1                      FORGERY     ACSO  13006643   \n",
        "2  REPORT NUMBER WAS CANCELLED     ACSO  11021284   \n",
        "3  REPORT NUMBER WAS CANCELLED     ACSO  12000010   \n",
        "4            DUI ALCOHOL/DRUGS     ACSO  11021283   \n",
        "\n",
        "                     Location 1        date      time  \n",
        "0  (37.67705445, -122.11298064)  2012-01-01  00:01:00  \n",
        "1  (37.71437982, -122.02231781)  2012-01-01  00:01:00  \n",
        "2  (37.66655037, -122.10000611)  2012-01-01  00:03:00  \n",
        "3  (37.66655037, -122.10000611)  2012-01-01  00:03:00  \n",
        "4  (37.66655037, -122.10000611)  2012-01-01  00:03:00  "
       ]
      }
     ],
     "prompt_number": 54
    },
    {
     "cell_type": "code",
     "collapsed": false,
     "input": [
      "#This command will fail if you try to reload the table. \n",
      "ALC_Crime.to_sql('alc_crimes', te)"
     ],
     "language": "python",
     "metadata": {},
     "outputs": [],
     "prompt_number": 55
    },
    {
     "cell_type": "code",
     "collapsed": false,
     "input": [
      "ls *.db"
     ],
     "language": "python",
     "metadata": {},
     "outputs": [
      {
       "output_type": "stream",
       "stream": "stdout",
       "text": [
        " Volume in drive C has no label.\n",
        " Volume Serial Number is 7A31-8CF4\n",
        "\n",
        " Directory of C:\\data_sci\\Final_Project\n",
        "\n",
        "12/05/2014  08:38 AM         8,901,632 crime_analysis.db\n",
        "               1 File(s)      8,901,632 bytes\n",
        "               0 Dir(s)  385,457,979,392 bytes free\n"
       ]
      }
     ],
     "prompt_number": 56
    },
    {
     "cell_type": "code",
     "collapsed": false,
     "input": [
      "print \"No of rows of Alameda County Crime data loaded:\"\n",
      "sql.read_sql_query(\"\"\"\n",
      "SELECT count(*) \n",
      "    FROM alc_crimes\n",
      "    \"\"\", te)"
     ],
     "language": "python",
     "metadata": {},
     "outputs": [
      {
       "output_type": "stream",
       "stream": "stdout",
       "text": [
        "No of rows of Alameda County Crime data loaded:\n"
       ]
      },
      {
       "html": [
        "<div style=\"max-height:1000px;max-width:1500px;overflow:auto;\">\n",
        "<table border=\"1\" class=\"dataframe\">\n",
        "  <thead>\n",
        "    <tr style=\"text-align: right;\">\n",
        "      <th></th>\n",
        "      <th>count(*)</th>\n",
        "    </tr>\n",
        "  </thead>\n",
        "  <tbody>\n",
        "    <tr>\n",
        "      <th>0</th>\n",
        "      <td> 50981</td>\n",
        "    </tr>\n",
        "  </tbody>\n",
        "</table>\n",
        "</div>"
       ],
       "metadata": {},
       "output_type": "pyout",
       "prompt_number": 57,
       "text": [
        "   count(*)\n",
        "0     50981"
       ]
      }
     ],
     "prompt_number": 57
    },
    {
     "cell_type": "code",
     "collapsed": false,
     "input": [
      "#load the Oakland Crime Data csv file\n",
      "OPD_Crime = read_csv('Cleaned_Data\\OPD.csv')\n",
      "x = pd.DatetimeIndex(OPD_Crime.Date)\n",
      "OPD_Crime['Date'] = x.date"
     ],
     "language": "python",
     "metadata": {},
     "outputs": [],
     "prompt_number": 58
    },
    {
     "cell_type": "code",
     "collapsed": false,
     "input": [
      "OPD_Crime.head()"
     ],
     "language": "python",
     "metadata": {},
     "outputs": [
      {
       "html": [
        "<div style=\"max-height:1000px;max-width:1500px;overflow:auto;\">\n",
        "<table border=\"1\" class=\"dataframe\">\n",
        "  <thead>\n",
        "    <tr style=\"text-align: right;\">\n",
        "      <th></th>\n",
        "      <th>Date</th>\n",
        "      <th>Time</th>\n",
        "      <th>CType</th>\n",
        "      <th>Desc</th>\n",
        "      <th>Addr</th>\n",
        "      <th>Lat</th>\n",
        "      <th>Long</th>\n",
        "      <th>CrimeCat</th>\n",
        "    </tr>\n",
        "  </thead>\n",
        "  <tbody>\n",
        "    <tr>\n",
        "      <th>0</th>\n",
        "      <td> 2008-07-18</td>\n",
        "      <td> 06:00:00</td>\n",
        "      <td>              BURG - AUTO</td>\n",
        "      <td>                     BURGLARY-AUTO</td>\n",
        "      <td> 4000 Alameda Ave, Oakland, CA, 94601</td>\n",
        "      <td> 37.768204</td>\n",
        "      <td>-122.223931</td>\n",
        "      <td>       LARCENY_BURGLARY_AUTO</td>\n",
        "    </tr>\n",
        "    <tr>\n",
        "      <th>1</th>\n",
        "      <td> 2010-02-24</td>\n",
        "      <td> 00:00:00</td>\n",
        "      <td> FORGERY &amp; COUNTERFEITING</td>\n",
        "      <td>        MAKE/PASS FICTITIOUS CHECK</td>\n",
        "      <td>                        900 MARKET ST</td>\n",
        "      <td> 37.803431</td>\n",
        "      <td>-122.281701</td>\n",
        "      <td> LARCENY_FORGERY-COUNTERFEIT</td>\n",
        "    </tr>\n",
        "    <tr>\n",
        "      <th>2</th>\n",
        "      <td> 2010-09-28</td>\n",
        "      <td> 00:00:00</td>\n",
        "      <td>                    OTHER</td>\n",
        "      <td>                       GRAND THEFT</td>\n",
        "      <td>                                  NaN</td>\n",
        "      <td>       NaN</td>\n",
        "      <td>        NaN</td>\n",
        "      <td>                         NaN</td>\n",
        "    </tr>\n",
        "    <tr>\n",
        "      <th>3</th>\n",
        "      <td> 2009-06-23</td>\n",
        "      <td> 00:00:00</td>\n",
        "      <td>      MISDEMEANOR ASSAULT</td>\n",
        "      <td>                 DISTURB THE PEACE</td>\n",
        "      <td> 4028 Whittle Ave, Oakland, CA, 94602</td>\n",
        "      <td> 37.805758</td>\n",
        "      <td>-122.209066</td>\n",
        "      <td>  QUALITY_DISORDERLY-CONDUCT</td>\n",
        "    </tr>\n",
        "    <tr>\n",
        "      <th>4</th>\n",
        "      <td> 2007-05-18</td>\n",
        "      <td> 11:00:00</td>\n",
        "      <td>      MISDEMEANOR WARRANT</td>\n",
        "      <td> MISDEMEANOR BENCH WARRANT - LOCAL</td>\n",
        "      <td>                                  NaN</td>\n",
        "      <td>       NaN</td>\n",
        "      <td>        NaN</td>\n",
        "      <td>   COURT_WARRANT_MISDEMEANOR</td>\n",
        "    </tr>\n",
        "  </tbody>\n",
        "</table>\n",
        "</div>"
       ],
       "metadata": {},
       "output_type": "pyout",
       "prompt_number": 59,
       "text": [
        "         Date      Time                     CType  \\\n",
        "0  2008-07-18  06:00:00               BURG - AUTO   \n",
        "1  2010-02-24  00:00:00  FORGERY & COUNTERFEITING   \n",
        "2  2010-09-28  00:00:00                     OTHER   \n",
        "3  2009-06-23  00:00:00       MISDEMEANOR ASSAULT   \n",
        "4  2007-05-18  11:00:00       MISDEMEANOR WARRANT   \n",
        "\n",
        "                                Desc                                  Addr  \\\n",
        "0                      BURGLARY-AUTO  4000 Alameda Ave, Oakland, CA, 94601   \n",
        "1         MAKE/PASS FICTITIOUS CHECK                         900 MARKET ST   \n",
        "2                        GRAND THEFT                                   NaN   \n",
        "3                  DISTURB THE PEACE  4028 Whittle Ave, Oakland, CA, 94602   \n",
        "4  MISDEMEANOR BENCH WARRANT - LOCAL                                   NaN   \n",
        "\n",
        "         Lat        Long                     CrimeCat  \n",
        "0  37.768204 -122.223931        LARCENY_BURGLARY_AUTO  \n",
        "1  37.803431 -122.281701  LARCENY_FORGERY-COUNTERFEIT  \n",
        "2        NaN         NaN                          NaN  \n",
        "3  37.805758 -122.209066   QUALITY_DISORDERLY-CONDUCT  \n",
        "4        NaN         NaN    COURT_WARRANT_MISDEMEANOR  "
       ]
      }
     ],
     "prompt_number": 59
    },
    {
     "cell_type": "code",
     "collapsed": false,
     "input": [
      "del OPD_Crime['CrimeCat']"
     ],
     "language": "python",
     "metadata": {},
     "outputs": [],
     "prompt_number": 60
    },
    {
     "cell_type": "code",
     "collapsed": false,
     "input": [
      "OPD_Crime.head()"
     ],
     "language": "python",
     "metadata": {},
     "outputs": [
      {
       "html": [
        "<div style=\"max-height:1000px;max-width:1500px;overflow:auto;\">\n",
        "<table border=\"1\" class=\"dataframe\">\n",
        "  <thead>\n",
        "    <tr style=\"text-align: right;\">\n",
        "      <th></th>\n",
        "      <th>Date</th>\n",
        "      <th>Time</th>\n",
        "      <th>CType</th>\n",
        "      <th>Desc</th>\n",
        "      <th>Addr</th>\n",
        "      <th>Lat</th>\n",
        "      <th>Long</th>\n",
        "    </tr>\n",
        "  </thead>\n",
        "  <tbody>\n",
        "    <tr>\n",
        "      <th>0</th>\n",
        "      <td> 2008-07-18</td>\n",
        "      <td> 06:00:00</td>\n",
        "      <td>              BURG - AUTO</td>\n",
        "      <td>                     BURGLARY-AUTO</td>\n",
        "      <td> 4000 Alameda Ave, Oakland, CA, 94601</td>\n",
        "      <td> 37.768204</td>\n",
        "      <td>-122.223931</td>\n",
        "    </tr>\n",
        "    <tr>\n",
        "      <th>1</th>\n",
        "      <td> 2010-02-24</td>\n",
        "      <td> 00:00:00</td>\n",
        "      <td> FORGERY &amp; COUNTERFEITING</td>\n",
        "      <td>        MAKE/PASS FICTITIOUS CHECK</td>\n",
        "      <td>                        900 MARKET ST</td>\n",
        "      <td> 37.803431</td>\n",
        "      <td>-122.281701</td>\n",
        "    </tr>\n",
        "    <tr>\n",
        "      <th>2</th>\n",
        "      <td> 2010-09-28</td>\n",
        "      <td> 00:00:00</td>\n",
        "      <td>                    OTHER</td>\n",
        "      <td>                       GRAND THEFT</td>\n",
        "      <td>                                  NaN</td>\n",
        "      <td>       NaN</td>\n",
        "      <td>        NaN</td>\n",
        "    </tr>\n",
        "    <tr>\n",
        "      <th>3</th>\n",
        "      <td> 2009-06-23</td>\n",
        "      <td> 00:00:00</td>\n",
        "      <td>      MISDEMEANOR ASSAULT</td>\n",
        "      <td>                 DISTURB THE PEACE</td>\n",
        "      <td> 4028 Whittle Ave, Oakland, CA, 94602</td>\n",
        "      <td> 37.805758</td>\n",
        "      <td>-122.209066</td>\n",
        "    </tr>\n",
        "    <tr>\n",
        "      <th>4</th>\n",
        "      <td> 2007-05-18</td>\n",
        "      <td> 11:00:00</td>\n",
        "      <td>      MISDEMEANOR WARRANT</td>\n",
        "      <td> MISDEMEANOR BENCH WARRANT - LOCAL</td>\n",
        "      <td>                                  NaN</td>\n",
        "      <td>       NaN</td>\n",
        "      <td>        NaN</td>\n",
        "    </tr>\n",
        "  </tbody>\n",
        "</table>\n",
        "</div>"
       ],
       "metadata": {},
       "output_type": "pyout",
       "prompt_number": 61,
       "text": [
        "         Date      Time                     CType  \\\n",
        "0  2008-07-18  06:00:00               BURG - AUTO   \n",
        "1  2010-02-24  00:00:00  FORGERY & COUNTERFEITING   \n",
        "2  2010-09-28  00:00:00                     OTHER   \n",
        "3  2009-06-23  00:00:00       MISDEMEANOR ASSAULT   \n",
        "4  2007-05-18  11:00:00       MISDEMEANOR WARRANT   \n",
        "\n",
        "                                Desc                                  Addr  \\\n",
        "0                      BURGLARY-AUTO  4000 Alameda Ave, Oakland, CA, 94601   \n",
        "1         MAKE/PASS FICTITIOUS CHECK                         900 MARKET ST   \n",
        "2                        GRAND THEFT                                   NaN   \n",
        "3                  DISTURB THE PEACE  4028 Whittle Ave, Oakland, CA, 94602   \n",
        "4  MISDEMEANOR BENCH WARRANT - LOCAL                                   NaN   \n",
        "\n",
        "         Lat        Long  \n",
        "0  37.768204 -122.223931  \n",
        "1  37.803431 -122.281701  \n",
        "2        NaN         NaN  \n",
        "3  37.805758 -122.209066  \n",
        "4        NaN         NaN  "
       ]
      }
     ],
     "prompt_number": 61
    },
    {
     "cell_type": "code",
     "collapsed": false,
     "input": [
      "OPD_Crime = OPD_Crime.dropna()"
     ],
     "language": "python",
     "metadata": {},
     "outputs": [],
     "prompt_number": 62
    },
    {
     "cell_type": "code",
     "collapsed": false,
     "input": [
      "len(OPD_Crime)"
     ],
     "language": "python",
     "metadata": {},
     "outputs": [
      {
       "metadata": {},
       "output_type": "pyout",
       "prompt_number": 63,
       "text": [
        "364786"
       ]
      }
     ],
     "prompt_number": 63
    },
    {
     "cell_type": "code",
     "collapsed": false,
     "input": [
      "OPD_Crime.head()"
     ],
     "language": "python",
     "metadata": {},
     "outputs": [
      {
       "html": [
        "<div style=\"max-height:1000px;max-width:1500px;overflow:auto;\">\n",
        "<table border=\"1\" class=\"dataframe\">\n",
        "  <thead>\n",
        "    <tr style=\"text-align: right;\">\n",
        "      <th></th>\n",
        "      <th>Date</th>\n",
        "      <th>Time</th>\n",
        "      <th>CType</th>\n",
        "      <th>Desc</th>\n",
        "      <th>Addr</th>\n",
        "      <th>Lat</th>\n",
        "      <th>Long</th>\n",
        "    </tr>\n",
        "  </thead>\n",
        "  <tbody>\n",
        "    <tr>\n",
        "      <th>0 </th>\n",
        "      <td> 2008-07-18</td>\n",
        "      <td> 06:00:00</td>\n",
        "      <td>              BURG - AUTO</td>\n",
        "      <td>                                 BURGLARY-AUTO</td>\n",
        "      <td> 4000 Alameda Ave, Oakland, CA, 94601</td>\n",
        "      <td> 37.768204</td>\n",
        "      <td>-122.223931</td>\n",
        "    </tr>\n",
        "    <tr>\n",
        "      <th>1 </th>\n",
        "      <td> 2010-02-24</td>\n",
        "      <td> 00:00:00</td>\n",
        "      <td> FORGERY &amp; COUNTERFEITING</td>\n",
        "      <td>                    MAKE/PASS FICTITIOUS CHECK</td>\n",
        "      <td>                        900 MARKET ST</td>\n",
        "      <td> 37.803431</td>\n",
        "      <td>-122.281701</td>\n",
        "    </tr>\n",
        "    <tr>\n",
        "      <th>3 </th>\n",
        "      <td> 2009-06-23</td>\n",
        "      <td> 00:00:00</td>\n",
        "      <td>      MISDEMEANOR ASSAULT</td>\n",
        "      <td>                             DISTURB THE PEACE</td>\n",
        "      <td> 4028 Whittle Ave, Oakland, CA, 94602</td>\n",
        "      <td> 37.805758</td>\n",
        "      <td>-122.209066</td>\n",
        "    </tr>\n",
        "    <tr>\n",
        "      <th>17</th>\n",
        "      <td> 2009-07-02</td>\n",
        "      <td> 00:00:00</td>\n",
        "      <td>                NARCOTICS</td>\n",
        "      <td>            POSSESS MARIJUANA/HASHISH FOR SALE</td>\n",
        "      <td>                       1200 CASTRO ST</td>\n",
        "      <td> 37.805313</td>\n",
        "      <td>-122.277921</td>\n",
        "    </tr>\n",
        "    <tr>\n",
        "      <th>19</th>\n",
        "      <td> 2007-01-06</td>\n",
        "      <td> 12:00:00</td>\n",
        "      <td>            TOWED VEHICLE</td>\n",
        "      <td> MISSING PARTS NEEDED TO OPERATE/PUBLIC STREET</td>\n",
        "      <td>                     8300 HILLSIDE ST</td>\n",
        "      <td> 37.760669</td>\n",
        "      <td>-122.166647</td>\n",
        "    </tr>\n",
        "  </tbody>\n",
        "</table>\n",
        "</div>"
       ],
       "metadata": {},
       "output_type": "pyout",
       "prompt_number": 64,
       "text": [
        "          Date      Time                     CType  \\\n",
        "0   2008-07-18  06:00:00               BURG - AUTO   \n",
        "1   2010-02-24  00:00:00  FORGERY & COUNTERFEITING   \n",
        "3   2009-06-23  00:00:00       MISDEMEANOR ASSAULT   \n",
        "17  2009-07-02  00:00:00                 NARCOTICS   \n",
        "19  2007-01-06  12:00:00             TOWED VEHICLE   \n",
        "\n",
        "                                             Desc  \\\n",
        "0                                   BURGLARY-AUTO   \n",
        "1                      MAKE/PASS FICTITIOUS CHECK   \n",
        "3                               DISTURB THE PEACE   \n",
        "17             POSSESS MARIJUANA/HASHISH FOR SALE   \n",
        "19  MISSING PARTS NEEDED TO OPERATE/PUBLIC STREET   \n",
        "\n",
        "                                    Addr        Lat        Long  \n",
        "0   4000 Alameda Ave, Oakland, CA, 94601  37.768204 -122.223931  \n",
        "1                          900 MARKET ST  37.803431 -122.281701  \n",
        "3   4028 Whittle Ave, Oakland, CA, 94602  37.805758 -122.209066  \n",
        "17                        1200 CASTRO ST  37.805313 -122.277921  \n",
        "19                      8300 HILLSIDE ST  37.760669 -122.166647  "
       ]
      }
     ],
     "prompt_number": 64
    },
    {
     "cell_type": "code",
     "collapsed": false,
     "input": [
      "#This command will fail if you try to reload the table. \n",
      "OPD_Crime.to_sql('opd_crimes', te)"
     ],
     "language": "python",
     "metadata": {},
     "outputs": [],
     "prompt_number": 65
    },
    {
     "cell_type": "code",
     "collapsed": false,
     "input": [
      "print \"No of rows of Oakland Crime data loaded:\"\n",
      "sql.read_sql_query(\"\"\"\n",
      "SELECT count(*) \n",
      "    FROM opd_crimes\n",
      "    \"\"\", te)"
     ],
     "language": "python",
     "metadata": {},
     "outputs": [
      {
       "output_type": "stream",
       "stream": "stdout",
       "text": [
        "No of rows of Oakland Crime data loaded:\n"
       ]
      },
      {
       "html": [
        "<div style=\"max-height:1000px;max-width:1500px;overflow:auto;\">\n",
        "<table border=\"1\" class=\"dataframe\">\n",
        "  <thead>\n",
        "    <tr style=\"text-align: right;\">\n",
        "      <th></th>\n",
        "      <th>count(*)</th>\n",
        "    </tr>\n",
        "  </thead>\n",
        "  <tbody>\n",
        "    <tr>\n",
        "      <th>0</th>\n",
        "      <td> 364786</td>\n",
        "    </tr>\n",
        "  </tbody>\n",
        "</table>\n",
        "</div>"
       ],
       "metadata": {},
       "output_type": "pyout",
       "prompt_number": 66,
       "text": [
        "   count(*)\n",
        "0    364786"
       ]
      }
     ],
     "prompt_number": 66
    },
    {
     "cell_type": "code",
     "collapsed": false,
     "input": [
      "# Import zip median data file from csv\n",
      "Zip_Median = read_csv('Cleaned_Data\\Zip_MedianSoldPrice_Alameda.csv')\n",
      "Zip_Median.head()"
     ],
     "language": "python",
     "metadata": {},
     "outputs": [
      {
       "html": [
        "<div style=\"max-height:1000px;max-width:1500px;overflow:auto;\">\n",
        "<table border=\"1\" class=\"dataframe\">\n",
        "  <thead>\n",
        "    <tr style=\"text-align: right;\">\n",
        "      <th></th>\n",
        "      <th>RegionName</th>\n",
        "      <th>City</th>\n",
        "      <th>CountyName</th>\n",
        "      <th>2013-01</th>\n",
        "      <th>2013-02</th>\n",
        "      <th>2013-03</th>\n",
        "      <th>2013-04</th>\n",
        "      <th>2013-05</th>\n",
        "      <th>2013-06</th>\n",
        "      <th>2013-07</th>\n",
        "      <th>...</th>\n",
        "      <th>2014-01</th>\n",
        "      <th>2014-02</th>\n",
        "      <th>2014-03</th>\n",
        "      <th>2014-04</th>\n",
        "      <th>2014-05</th>\n",
        "      <th>2014-06</th>\n",
        "      <th>2014-07</th>\n",
        "      <th>2014-08</th>\n",
        "      <th>2014-09</th>\n",
        "      <th>2014-10</th>\n",
        "    </tr>\n",
        "  </thead>\n",
        "  <tbody>\n",
        "    <tr>\n",
        "      <th>0</th>\n",
        "      <td> 94501</td>\n",
        "      <td> Alameda</td>\n",
        "      <td> Alameda</td>\n",
        "      <td> 481350</td>\n",
        "      <td> 500500</td>\n",
        "      <td> 426750</td>\n",
        "      <td> 474500</td>\n",
        "      <td>    NaN</td>\n",
        "      <td> 647750</td>\n",
        "      <td> 687750</td>\n",
        "      <td>...</td>\n",
        "      <td> 557000</td>\n",
        "      <td>      NaN</td>\n",
        "      <td> 600000.0</td>\n",
        "      <td> 629705.8824</td>\n",
        "      <td> 668750</td>\n",
        "      <td> 692750</td>\n",
        "      <td> 663250</td>\n",
        "      <td> 628750</td>\n",
        "      <td> 692500</td>\n",
        "      <td> 736175</td>\n",
        "    </tr>\n",
        "    <tr>\n",
        "      <th>1</th>\n",
        "      <td> 94536</td>\n",
        "      <td> Fremont</td>\n",
        "      <td> Alameda</td>\n",
        "      <td> 515000</td>\n",
        "      <td> 511750</td>\n",
        "      <td> 565250</td>\n",
        "      <td> 571550</td>\n",
        "      <td> 610900</td>\n",
        "      <td> 634300</td>\n",
        "      <td> 624250</td>\n",
        "      <td>...</td>\n",
        "      <td> 558000</td>\n",
        "      <td> 548700.0</td>\n",
        "      <td> 579075.0</td>\n",
        "      <td> 654325.0000</td>\n",
        "      <td> 706150</td>\n",
        "      <td> 680250</td>\n",
        "      <td> 669200</td>\n",
        "      <td> 656800</td>\n",
        "      <td> 676250</td>\n",
        "      <td> 685250</td>\n",
        "    </tr>\n",
        "    <tr>\n",
        "      <th>2</th>\n",
        "      <td> 94544</td>\n",
        "      <td> Hayward</td>\n",
        "      <td> Alameda</td>\n",
        "      <td> 294250</td>\n",
        "      <td> 296350</td>\n",
        "      <td> 307150</td>\n",
        "      <td> 325750</td>\n",
        "      <td> 336650</td>\n",
        "      <td> 359900</td>\n",
        "      <td> 373700</td>\n",
        "      <td>...</td>\n",
        "      <td> 386600</td>\n",
        "      <td> 380400.0</td>\n",
        "      <td> 387250.0</td>\n",
        "      <td> 402500.0000</td>\n",
        "      <td> 404850</td>\n",
        "      <td>    NaN</td>\n",
        "      <td> 350750</td>\n",
        "      <td> 405250</td>\n",
        "      <td> 419000</td>\n",
        "      <td> 423000</td>\n",
        "    </tr>\n",
        "    <tr>\n",
        "      <th>3</th>\n",
        "      <td> 94538</td>\n",
        "      <td> Fremont</td>\n",
        "      <td> Alameda</td>\n",
        "      <td> 450850</td>\n",
        "      <td> 451150</td>\n",
        "      <td> 424600</td>\n",
        "      <td> 461400</td>\n",
        "      <td> 483875</td>\n",
        "      <td> 533000</td>\n",
        "      <td> 553025</td>\n",
        "      <td>...</td>\n",
        "      <td> 563691</td>\n",
        "      <td> 582088.7</td>\n",
        "      <td> 574152.3</td>\n",
        "      <td> 602750.0000</td>\n",
        "      <td> 604750</td>\n",
        "      <td> 621700</td>\n",
        "      <td> 611800</td>\n",
        "      <td> 612750</td>\n",
        "      <td> 617750</td>\n",
        "      <td> 643000</td>\n",
        "    </tr>\n",
        "    <tr>\n",
        "      <th>4</th>\n",
        "      <td> 94541</td>\n",
        "      <td> Hayward</td>\n",
        "      <td> Alameda</td>\n",
        "      <td> 262200</td>\n",
        "      <td> 268000</td>\n",
        "      <td> 306750</td>\n",
        "      <td> 322750</td>\n",
        "      <td> 322250</td>\n",
        "      <td> 344500</td>\n",
        "      <td> 372600</td>\n",
        "      <td>...</td>\n",
        "      <td> 392875</td>\n",
        "      <td> 386675.0</td>\n",
        "      <td> 391025.0</td>\n",
        "      <td> 386925.0000</td>\n",
        "      <td> 402500</td>\n",
        "      <td> 403650</td>\n",
        "      <td> 410350</td>\n",
        "      <td> 419750</td>\n",
        "      <td> 422400</td>\n",
        "      <td> 418850</td>\n",
        "    </tr>\n",
        "  </tbody>\n",
        "</table>\n",
        "<p>5 rows \u00d7 25 columns</p>\n",
        "</div>"
       ],
       "metadata": {},
       "output_type": "pyout",
       "prompt_number": 67,
       "text": [
        "   RegionName     City CountyName  2013-01  2013-02  2013-03  2013-04  \\\n",
        "0       94501  Alameda    Alameda   481350   500500   426750   474500   \n",
        "1       94536  Fremont    Alameda   515000   511750   565250   571550   \n",
        "2       94544  Hayward    Alameda   294250   296350   307150   325750   \n",
        "3       94538  Fremont    Alameda   450850   451150   424600   461400   \n",
        "4       94541  Hayward    Alameda   262200   268000   306750   322750   \n",
        "\n",
        "   2013-05  2013-06  2013-07   ...     2014-01   2014-02   2014-03  \\\n",
        "0      NaN   647750   687750   ...      557000       NaN  600000.0   \n",
        "1   610900   634300   624250   ...      558000  548700.0  579075.0   \n",
        "2   336650   359900   373700   ...      386600  380400.0  387250.0   \n",
        "3   483875   533000   553025   ...      563691  582088.7  574152.3   \n",
        "4   322250   344500   372600   ...      392875  386675.0  391025.0   \n",
        "\n",
        "       2014-04  2014-05  2014-06  2014-07  2014-08  2014-09  2014-10  \n",
        "0  629705.8824   668750   692750   663250   628750   692500   736175  \n",
        "1  654325.0000   706150   680250   669200   656800   676250   685250  \n",
        "2  402500.0000   404850      NaN   350750   405250   419000   423000  \n",
        "3  602750.0000   604750   621700   611800   612750   617750   643000  \n",
        "4  386925.0000   402500   403650   410350   419750   422400   418850  \n",
        "\n",
        "[5 rows x 25 columns]"
       ]
      }
     ],
     "prompt_number": 67
    },
    {
     "cell_type": "code",
     "collapsed": false,
     "input": [
      "del Zip_Median['CountyName']\n",
      "Zip_Median = Zip_Median.dropna()"
     ],
     "language": "python",
     "metadata": {},
     "outputs": [],
     "prompt_number": 68
    },
    {
     "cell_type": "code",
     "collapsed": false,
     "input": [
      "Zip_Median.head()"
     ],
     "language": "python",
     "metadata": {},
     "outputs": [
      {
       "html": [
        "<div style=\"max-height:1000px;max-width:1500px;overflow:auto;\">\n",
        "<table border=\"1\" class=\"dataframe\">\n",
        "  <thead>\n",
        "    <tr style=\"text-align: right;\">\n",
        "      <th></th>\n",
        "      <th>RegionName</th>\n",
        "      <th>City</th>\n",
        "      <th>2013-01</th>\n",
        "      <th>2013-02</th>\n",
        "      <th>2013-03</th>\n",
        "      <th>2013-04</th>\n",
        "      <th>2013-05</th>\n",
        "      <th>2013-06</th>\n",
        "      <th>2013-07</th>\n",
        "      <th>2013-08</th>\n",
        "      <th>...</th>\n",
        "      <th>2014-01</th>\n",
        "      <th>2014-02</th>\n",
        "      <th>2014-03</th>\n",
        "      <th>2014-04</th>\n",
        "      <th>2014-05</th>\n",
        "      <th>2014-06</th>\n",
        "      <th>2014-07</th>\n",
        "      <th>2014-08</th>\n",
        "      <th>2014-09</th>\n",
        "      <th>2014-10</th>\n",
        "    </tr>\n",
        "  </thead>\n",
        "  <tbody>\n",
        "    <tr>\n",
        "      <th>1</th>\n",
        "      <td> 94536</td>\n",
        "      <td>    Fremont</td>\n",
        "      <td> 515000</td>\n",
        "      <td> 511750</td>\n",
        "      <td> 565250</td>\n",
        "      <td> 571550</td>\n",
        "      <td> 610900</td>\n",
        "      <td> 634300</td>\n",
        "      <td> 624250</td>\n",
        "      <td> 615000</td>\n",
        "      <td>...</td>\n",
        "      <td> 558000</td>\n",
        "      <td> 548700.0</td>\n",
        "      <td> 579075.0</td>\n",
        "      <td> 654325</td>\n",
        "      <td> 706150</td>\n",
        "      <td> 680250</td>\n",
        "      <td> 669200</td>\n",
        "      <td> 656800</td>\n",
        "      <td> 676250</td>\n",
        "      <td> 685250</td>\n",
        "    </tr>\n",
        "    <tr>\n",
        "      <th>3</th>\n",
        "      <td> 94538</td>\n",
        "      <td>    Fremont</td>\n",
        "      <td> 450850</td>\n",
        "      <td> 451150</td>\n",
        "      <td> 424600</td>\n",
        "      <td> 461400</td>\n",
        "      <td> 483875</td>\n",
        "      <td> 533000</td>\n",
        "      <td> 553025</td>\n",
        "      <td> 552850</td>\n",
        "      <td>...</td>\n",
        "      <td> 563691</td>\n",
        "      <td> 582088.7</td>\n",
        "      <td> 574152.3</td>\n",
        "      <td> 602750</td>\n",
        "      <td> 604750</td>\n",
        "      <td> 621700</td>\n",
        "      <td> 611800</td>\n",
        "      <td> 612750</td>\n",
        "      <td> 617750</td>\n",
        "      <td> 643000</td>\n",
        "    </tr>\n",
        "    <tr>\n",
        "      <th>4</th>\n",
        "      <td> 94541</td>\n",
        "      <td>    Hayward</td>\n",
        "      <td> 262200</td>\n",
        "      <td> 268000</td>\n",
        "      <td> 306750</td>\n",
        "      <td> 322750</td>\n",
        "      <td> 322250</td>\n",
        "      <td> 344500</td>\n",
        "      <td> 372600</td>\n",
        "      <td> 390000</td>\n",
        "      <td>...</td>\n",
        "      <td> 392875</td>\n",
        "      <td> 386675.0</td>\n",
        "      <td> 391025.0</td>\n",
        "      <td> 386925</td>\n",
        "      <td> 402500</td>\n",
        "      <td> 403650</td>\n",
        "      <td> 410350</td>\n",
        "      <td> 419750</td>\n",
        "      <td> 422400</td>\n",
        "      <td> 418850</td>\n",
        "    </tr>\n",
        "    <tr>\n",
        "      <th>5</th>\n",
        "      <td> 94587</td>\n",
        "      <td> Union City</td>\n",
        "      <td> 383700</td>\n",
        "      <td> 404825</td>\n",
        "      <td> 426125</td>\n",
        "      <td> 470435</td>\n",
        "      <td> 489265</td>\n",
        "      <td> 477250</td>\n",
        "      <td> 492050</td>\n",
        "      <td> 479450</td>\n",
        "      <td>...</td>\n",
        "      <td> 516600</td>\n",
        "      <td> 471900.0</td>\n",
        "      <td> 500500.0</td>\n",
        "      <td> 461250</td>\n",
        "      <td> 496000</td>\n",
        "      <td> 515550</td>\n",
        "      <td> 578700</td>\n",
        "      <td> 593250</td>\n",
        "      <td> 580250</td>\n",
        "      <td> 565000</td>\n",
        "    </tr>\n",
        "    <tr>\n",
        "      <th>6</th>\n",
        "      <td> 94568</td>\n",
        "      <td>     Dublin</td>\n",
        "      <td> 528050</td>\n",
        "      <td> 480250</td>\n",
        "      <td> 539000</td>\n",
        "      <td> 593375</td>\n",
        "      <td> 610925</td>\n",
        "      <td> 616550</td>\n",
        "      <td> 587150</td>\n",
        "      <td> 600500</td>\n",
        "      <td>...</td>\n",
        "      <td> 667600</td>\n",
        "      <td> 636400.0</td>\n",
        "      <td> 635400.0</td>\n",
        "      <td> 650350</td>\n",
        "      <td> 666000</td>\n",
        "      <td> 685250</td>\n",
        "      <td> 683750</td>\n",
        "      <td> 678750</td>\n",
        "      <td> 672500</td>\n",
        "      <td> 652750</td>\n",
        "    </tr>\n",
        "  </tbody>\n",
        "</table>\n",
        "<p>5 rows \u00d7 24 columns</p>\n",
        "</div>"
       ],
       "metadata": {},
       "output_type": "pyout",
       "prompt_number": 69,
       "text": [
        "   RegionName        City  2013-01  2013-02  2013-03  2013-04  2013-05  \\\n",
        "1       94536     Fremont   515000   511750   565250   571550   610900   \n",
        "3       94538     Fremont   450850   451150   424600   461400   483875   \n",
        "4       94541     Hayward   262200   268000   306750   322750   322250   \n",
        "5       94587  Union City   383700   404825   426125   470435   489265   \n",
        "6       94568      Dublin   528050   480250   539000   593375   610925   \n",
        "\n",
        "   2013-06  2013-07  2013-08   ...     2014-01   2014-02   2014-03  2014-04  \\\n",
        "1   634300   624250   615000   ...      558000  548700.0  579075.0   654325   \n",
        "3   533000   553025   552850   ...      563691  582088.7  574152.3   602750   \n",
        "4   344500   372600   390000   ...      392875  386675.0  391025.0   386925   \n",
        "5   477250   492050   479450   ...      516600  471900.0  500500.0   461250   \n",
        "6   616550   587150   600500   ...      667600  636400.0  635400.0   650350   \n",
        "\n",
        "   2014-05  2014-06  2014-07  2014-08  2014-09  2014-10  \n",
        "1   706150   680250   669200   656800   676250   685250  \n",
        "3   604750   621700   611800   612750   617750   643000  \n",
        "4   402500   403650   410350   419750   422400   418850  \n",
        "5   496000   515550   578700   593250   580250   565000  \n",
        "6   666000   685250   683750   678750   672500   652750  \n",
        "\n",
        "[5 rows x 24 columns]"
       ]
      }
     ],
     "prompt_number": 69
    },
    {
     "cell_type": "code",
     "collapsed": false,
     "input": [
      "#This command will fail if you try to reload the table. \n",
      "Zip_Median.to_sql('Zip_Median', te)"
     ],
     "language": "python",
     "metadata": {},
     "outputs": [],
     "prompt_number": 70
    },
    {
     "cell_type": "code",
     "collapsed": false,
     "input": [
      "print \"No of rows of Zip Median home prices data loaded:\"\n",
      "sql.read_sql_query(\"\"\"\n",
      "SELECT count(*) \n",
      "    FROM Zip_Median\n",
      "    \"\"\", te)"
     ],
     "language": "python",
     "metadata": {},
     "outputs": [
      {
       "output_type": "stream",
       "stream": "stdout",
       "text": [
        "No of rows of Zip Median home prices data loaded:\n"
       ]
      },
      {
       "html": [
        "<div style=\"max-height:1000px;max-width:1500px;overflow:auto;\">\n",
        "<table border=\"1\" class=\"dataframe\">\n",
        "  <thead>\n",
        "    <tr style=\"text-align: right;\">\n",
        "      <th></th>\n",
        "      <th>count(*)</th>\n",
        "    </tr>\n",
        "  </thead>\n",
        "  <tbody>\n",
        "    <tr>\n",
        "      <th>0</th>\n",
        "      <td> 13</td>\n",
        "    </tr>\n",
        "  </tbody>\n",
        "</table>\n",
        "</div>"
       ],
       "metadata": {},
       "output_type": "pyout",
       "prompt_number": 71,
       "text": [
        "   count(*)\n",
        "0        13"
       ]
      }
     ],
     "prompt_number": 71
    },
    {
     "cell_type": "code",
     "collapsed": false,
     "input": [
      "# Import school data from csv\n",
      "School = read_csv('Cleaned_Data\\school.csv')\n",
      "School.head()"
     ],
     "language": "python",
     "metadata": {},
     "outputs": [
      {
       "html": [
        "<div style=\"max-height:1000px;max-width:1500px;overflow:auto;\">\n",
        "<table border=\"1\" class=\"dataframe\">\n",
        "  <thead>\n",
        "    <tr style=\"text-align: right;\">\n",
        "      <th></th>\n",
        "      <th>School</th>\n",
        "      <th>Street</th>\n",
        "      <th>City</th>\n",
        "      <th>District</th>\n",
        "      <th>County</th>\n",
        "      <th>State</th>\n",
        "      <th>Zip</th>\n",
        "      <th>Ranking</th>\n",
        "      <th>StatusType</th>\n",
        "      <th>Latitude</th>\n",
        "      <th>Longitude</th>\n",
        "    </tr>\n",
        "  </thead>\n",
        "  <tbody>\n",
        "    <tr>\n",
        "      <th>0</th>\n",
        "      <td>                     FAME Public Charter</td>\n",
        "      <td> 39899 Balentine Drive, Suite 335</td>\n",
        "      <td>  Newark</td>\n",
        "      <td> Alameda County Office of Education</td>\n",
        "      <td> Alameda</td>\n",
        "      <td> CA</td>\n",
        "      <td> 94560-5359</td>\n",
        "      <td>  4</td>\n",
        "      <td> Active</td>\n",
        "      <td> 37.521970</td>\n",
        "      <td>-121.99260</td>\n",
        "    </tr>\n",
        "    <tr>\n",
        "      <th>1</th>\n",
        "      <td>  Envision Academy for Arts &amp; Technology</td>\n",
        "      <td>              1515 Webster Street</td>\n",
        "      <td> Oakland</td>\n",
        "      <td> Alameda County Office of Education</td>\n",
        "      <td> Alameda</td>\n",
        "      <td> CA</td>\n",
        "      <td> 94612-3355</td>\n",
        "      <td>  2</td>\n",
        "      <td> Active</td>\n",
        "      <td> 37.804520</td>\n",
        "      <td>-122.26815</td>\n",
        "    </tr>\n",
        "    <tr>\n",
        "      <th>2</th>\n",
        "      <td> Community School for Creative Education</td>\n",
        "      <td>             8755 Fontaine Street</td>\n",
        "      <td> Oakland</td>\n",
        "      <td> Alameda County Office of Education</td>\n",
        "      <td> Alameda</td>\n",
        "      <td> CA</td>\n",
        "      <td> 94605-4197</td>\n",
        "      <td>  1</td>\n",
        "      <td> Active</td>\n",
        "      <td> 37.762988</td>\n",
        "      <td>-122.15168</td>\n",
        "    </tr>\n",
        "    <tr>\n",
        "      <th>3</th>\n",
        "      <td>                         Yu Ming Charter</td>\n",
        "      <td>                 321 Tenth Street</td>\n",
        "      <td> Oakland</td>\n",
        "      <td> Alameda County Office of Education</td>\n",
        "      <td> Alameda</td>\n",
        "      <td> CA</td>\n",
        "      <td>      94607</td>\n",
        "      <td> 10</td>\n",
        "      <td> Active</td>\n",
        "      <td> 37.800359</td>\n",
        "      <td>-122.26989</td>\n",
        "    </tr>\n",
        "    <tr>\n",
        "      <th>4</th>\n",
        "      <td>                Urban Montessori Charter</td>\n",
        "      <td>                5328 Brann Street</td>\n",
        "      <td> Oakland</td>\n",
        "      <td> Alameda County Office of Education</td>\n",
        "      <td> Alameda</td>\n",
        "      <td> CA</td>\n",
        "      <td>      94619</td>\n",
        "      <td>  1</td>\n",
        "      <td> Active</td>\n",
        "      <td> 37.778352</td>\n",
        "      <td>-122.18950</td>\n",
        "    </tr>\n",
        "  </tbody>\n",
        "</table>\n",
        "</div>"
       ],
       "metadata": {},
       "output_type": "pyout",
       "prompt_number": 72,
       "text": [
        "                                    School                            Street  \\\n",
        "0                      FAME Public Charter  39899 Balentine Drive, Suite 335   \n",
        "1   Envision Academy for Arts & Technology               1515 Webster Street   \n",
        "2  Community School for Creative Education              8755 Fontaine Street   \n",
        "3                          Yu Ming Charter                  321 Tenth Street   \n",
        "4                 Urban Montessori Charter                 5328 Brann Street   \n",
        "\n",
        "      City                            District   County State         Zip  \\\n",
        "0   Newark  Alameda County Office of Education  Alameda    CA  94560-5359   \n",
        "1  Oakland  Alameda County Office of Education  Alameda    CA  94612-3355   \n",
        "2  Oakland  Alameda County Office of Education  Alameda    CA  94605-4197   \n",
        "3  Oakland  Alameda County Office of Education  Alameda    CA       94607   \n",
        "4  Oakland  Alameda County Office of Education  Alameda    CA       94619   \n",
        "\n",
        "   Ranking StatusType   Latitude  Longitude  \n",
        "0        4     Active  37.521970 -121.99260  \n",
        "1        2     Active  37.804520 -122.26815  \n",
        "2        1     Active  37.762988 -122.15168  \n",
        "3       10     Active  37.800359 -122.26989  \n",
        "4        1     Active  37.778352 -122.18950  "
       ]
      }
     ],
     "prompt_number": 72
    },
    {
     "cell_type": "code",
     "collapsed": false,
     "input": [
      "School = School.dropna()"
     ],
     "language": "python",
     "metadata": {},
     "outputs": [],
     "prompt_number": 73
    },
    {
     "cell_type": "code",
     "collapsed": false,
     "input": [
      "School.head()"
     ],
     "language": "python",
     "metadata": {},
     "outputs": [
      {
       "html": [
        "<div style=\"max-height:1000px;max-width:1500px;overflow:auto;\">\n",
        "<table border=\"1\" class=\"dataframe\">\n",
        "  <thead>\n",
        "    <tr style=\"text-align: right;\">\n",
        "      <th></th>\n",
        "      <th>School</th>\n",
        "      <th>Street</th>\n",
        "      <th>City</th>\n",
        "      <th>District</th>\n",
        "      <th>County</th>\n",
        "      <th>State</th>\n",
        "      <th>Zip</th>\n",
        "      <th>Ranking</th>\n",
        "      <th>StatusType</th>\n",
        "      <th>Latitude</th>\n",
        "      <th>Longitude</th>\n",
        "    </tr>\n",
        "  </thead>\n",
        "  <tbody>\n",
        "    <tr>\n",
        "      <th>0</th>\n",
        "      <td>                     FAME Public Charter</td>\n",
        "      <td> 39899 Balentine Drive, Suite 335</td>\n",
        "      <td>  Newark</td>\n",
        "      <td> Alameda County Office of Education</td>\n",
        "      <td> Alameda</td>\n",
        "      <td> CA</td>\n",
        "      <td> 94560-5359</td>\n",
        "      <td>  4</td>\n",
        "      <td> Active</td>\n",
        "      <td> 37.521970</td>\n",
        "      <td>-121.99260</td>\n",
        "    </tr>\n",
        "    <tr>\n",
        "      <th>1</th>\n",
        "      <td>  Envision Academy for Arts &amp; Technology</td>\n",
        "      <td>              1515 Webster Street</td>\n",
        "      <td> Oakland</td>\n",
        "      <td> Alameda County Office of Education</td>\n",
        "      <td> Alameda</td>\n",
        "      <td> CA</td>\n",
        "      <td> 94612-3355</td>\n",
        "      <td>  2</td>\n",
        "      <td> Active</td>\n",
        "      <td> 37.804520</td>\n",
        "      <td>-122.26815</td>\n",
        "    </tr>\n",
        "    <tr>\n",
        "      <th>2</th>\n",
        "      <td> Community School for Creative Education</td>\n",
        "      <td>             8755 Fontaine Street</td>\n",
        "      <td> Oakland</td>\n",
        "      <td> Alameda County Office of Education</td>\n",
        "      <td> Alameda</td>\n",
        "      <td> CA</td>\n",
        "      <td> 94605-4197</td>\n",
        "      <td>  1</td>\n",
        "      <td> Active</td>\n",
        "      <td> 37.762988</td>\n",
        "      <td>-122.15168</td>\n",
        "    </tr>\n",
        "    <tr>\n",
        "      <th>3</th>\n",
        "      <td>                         Yu Ming Charter</td>\n",
        "      <td>                 321 Tenth Street</td>\n",
        "      <td> Oakland</td>\n",
        "      <td> Alameda County Office of Education</td>\n",
        "      <td> Alameda</td>\n",
        "      <td> CA</td>\n",
        "      <td>      94607</td>\n",
        "      <td> 10</td>\n",
        "      <td> Active</td>\n",
        "      <td> 37.800359</td>\n",
        "      <td>-122.26989</td>\n",
        "    </tr>\n",
        "    <tr>\n",
        "      <th>4</th>\n",
        "      <td>                Urban Montessori Charter</td>\n",
        "      <td>                5328 Brann Street</td>\n",
        "      <td> Oakland</td>\n",
        "      <td> Alameda County Office of Education</td>\n",
        "      <td> Alameda</td>\n",
        "      <td> CA</td>\n",
        "      <td>      94619</td>\n",
        "      <td>  1</td>\n",
        "      <td> Active</td>\n",
        "      <td> 37.778352</td>\n",
        "      <td>-122.18950</td>\n",
        "    </tr>\n",
        "  </tbody>\n",
        "</table>\n",
        "</div>"
       ],
       "metadata": {},
       "output_type": "pyout",
       "prompt_number": 74,
       "text": [
        "                                    School                            Street  \\\n",
        "0                      FAME Public Charter  39899 Balentine Drive, Suite 335   \n",
        "1   Envision Academy for Arts & Technology               1515 Webster Street   \n",
        "2  Community School for Creative Education              8755 Fontaine Street   \n",
        "3                          Yu Ming Charter                  321 Tenth Street   \n",
        "4                 Urban Montessori Charter                 5328 Brann Street   \n",
        "\n",
        "      City                            District   County State         Zip  \\\n",
        "0   Newark  Alameda County Office of Education  Alameda    CA  94560-5359   \n",
        "1  Oakland  Alameda County Office of Education  Alameda    CA  94612-3355   \n",
        "2  Oakland  Alameda County Office of Education  Alameda    CA  94605-4197   \n",
        "3  Oakland  Alameda County Office of Education  Alameda    CA       94607   \n",
        "4  Oakland  Alameda County Office of Education  Alameda    CA       94619   \n",
        "\n",
        "   Ranking StatusType   Latitude  Longitude  \n",
        "0        4     Active  37.521970 -121.99260  \n",
        "1        2     Active  37.804520 -122.26815  \n",
        "2        1     Active  37.762988 -122.15168  \n",
        "3       10     Active  37.800359 -122.26989  \n",
        "4        1     Active  37.778352 -122.18950  "
       ]
      }
     ],
     "prompt_number": 74
    },
    {
     "cell_type": "code",
     "collapsed": false,
     "input": [
      "#This command will fail if you try to reload the table. \n",
      "School.to_sql('School', te)"
     ],
     "language": "python",
     "metadata": {},
     "outputs": [],
     "prompt_number": 75
    },
    {
     "cell_type": "code",
     "collapsed": false,
     "input": [
      "print \"No of rows of School data loaded:\"\n",
      "sql.read_sql_query(\"\"\"\n",
      "SELECT count(*) \n",
      "    FROM School\n",
      "    \"\"\", te)"
     ],
     "language": "python",
     "metadata": {},
     "outputs": [
      {
       "output_type": "stream",
       "stream": "stdout",
       "text": [
        "No of rows of School data loaded:\n"
       ]
      },
      {
       "html": [
        "<div style=\"max-height:1000px;max-width:1500px;overflow:auto;\">\n",
        "<table border=\"1\" class=\"dataframe\">\n",
        "  <thead>\n",
        "    <tr style=\"text-align: right;\">\n",
        "      <th></th>\n",
        "      <th>count(*)</th>\n",
        "    </tr>\n",
        "  </thead>\n",
        "  <tbody>\n",
        "    <tr>\n",
        "      <th>0</th>\n",
        "      <td> 351</td>\n",
        "    </tr>\n",
        "  </tbody>\n",
        "</table>\n",
        "</div>"
       ],
       "metadata": {},
       "output_type": "pyout",
       "prompt_number": 76,
       "text": [
        "   count(*)\n",
        "0       351"
       ]
      }
     ],
     "prompt_number": 76
    },
    {
     "cell_type": "code",
     "collapsed": false,
     "input": [],
     "language": "python",
     "metadata": {},
     "outputs": [],
     "prompt_number": 76
    },
    {
     "cell_type": "code",
     "collapsed": false,
     "input": [],
     "language": "python",
     "metadata": {},
     "outputs": [],
     "prompt_number": 76
    },
    {
     "cell_type": "code",
     "collapsed": false,
     "input": [],
     "language": "python",
     "metadata": {},
     "outputs": [],
     "prompt_number": 76
    }
   ],
   "metadata": {}
  }
 ]
}