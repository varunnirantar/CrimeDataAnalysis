{
 "metadata": {
  "kernelspec": {
   "codemirror_mode": {
    "name": "ipython",
    "version": 2
   },
   "display_name": "IPython (Python 2)",
   "language": "python",
   "name": "python2"
  },
  "name": "",
  "signature": "sha256:af2789374b295f818505f623bb7a5dc101b3ff0dc43564e74e03b6e7cd9f0e2b"
 },
 "nbformat": 3,
 "nbformat_minor": 0,
 "worksheets": [
  {
   "cells": [
    {
     "cell_type": "markdown",
     "metadata": {},
     "source": [
      "#Data Cleanup program:\n",
      "This program reads the following CSV files and cleans it up.\n",
      "\n",
      "1. Reads school ranking and public school files and produces a consolidate file with the following columns:\n",
      "   School, Street, City, District, County, State, Zip, Ranking, StatusType, Latitude, Longitude\n",
      "2. Reads raw crime data from OPD_140215.csv and removed unwanted columns to produce OPD.csv. This file has the following columns:\n",
      "   Date, Time, CType, Desc, Addr, Lat, Long, CrimeCat\n",
      "   \n",
      "Note: This program does not cleanup Alameda County crime file.After running this program, please run Database_load program.  This program will load all these CSV files into SQLLITE tables. In addition, it also converts the date columns to YYYY-MM-DD format and also removes NaNs.\n"
     ]
    },
    {
     "cell_type": "code",
     "collapsed": false,
     "input": [
      "import pandas as pd\n",
      "import numpy as np"
     ],
     "language": "python",
     "metadata": {},
     "outputs": [],
     "prompt_number": 1
    },
    {
     "cell_type": "code",
     "collapsed": false,
     "input": [
      "r = pd.read_csv(\"Raw_Data\\school_ranking.csv\")\n",
      "s = pd.read_excel(\"Raw_Data\\pubschls.xls\")"
     ],
     "language": "python",
     "metadata": {},
     "outputs": [],
     "prompt_number": 2
    },
    {
     "cell_type": "code",
     "collapsed": false,
     "input": [
      "df_s = pd.DataFrame(s)"
     ],
     "language": "python",
     "metadata": {},
     "outputs": [],
     "prompt_number": 3
    },
    {
     "cell_type": "code",
     "collapsed": false,
     "input": [
      "df_s = df_s[df_s['County'] == 'Alameda']\n",
      "df_s.head()"
     ],
     "language": "python",
     "metadata": {},
     "outputs": [
      {
       "html": [
        "<div style=\"max-height:1000px;max-width:1500px;overflow:auto;\">\n",
        "<table border=\"1\" class=\"dataframe\">\n",
        "  <thead>\n",
        "    <tr style=\"text-align: right;\">\n",
        "      <th></th>\n",
        "      <th>CDSCode</th>\n",
        "      <th>NCESDist</th>\n",
        "      <th>NCESSchool</th>\n",
        "      <th>StatusType</th>\n",
        "      <th>County</th>\n",
        "      <th>District</th>\n",
        "      <th>School</th>\n",
        "      <th>Street</th>\n",
        "      <th>StreetAbr</th>\n",
        "      <th>City</th>\n",
        "      <th>...</th>\n",
        "      <th>AdmFName1</th>\n",
        "      <th>AdmLName1</th>\n",
        "      <th>AdmEmail1</th>\n",
        "      <th>AdmFName2</th>\n",
        "      <th>AdmLName2</th>\n",
        "      <th>AdmEmail2</th>\n",
        "      <th>AdmFName3</th>\n",
        "      <th>AdmLName3</th>\n",
        "      <th>AdmEmail3</th>\n",
        "      <th>LastUpdate</th>\n",
        "    </tr>\n",
        "  </thead>\n",
        "  <tbody>\n",
        "    <tr>\n",
        "      <th>0</th>\n",
        "      <td> 1100170000000</td>\n",
        "      <td> 691051</td>\n",
        "      <td>   NaN</td>\n",
        "      <td> Active</td>\n",
        "      <td> Alameda</td>\n",
        "      <td> Alameda County Office of Education</td>\n",
        "      <td>                                           NaN</td>\n",
        "      <td>           313 West Winton Avenue</td>\n",
        "      <td>          313 West Winton Ave.</td>\n",
        "      <td>  Hayward</td>\n",
        "      <td>...</td>\n",
        "      <td>  Sheila</td>\n",
        "      <td> Jordan</td>\n",
        "      <td>                                 sheilaj@acoe.org</td>\n",
        "      <td> NaN</td>\n",
        "      <td> NaN</td>\n",
        "      <td> NaN</td>\n",
        "      <td> NaN</td>\n",
        "      <td> NaN</td>\n",
        "      <td> NaN</td>\n",
        "      <td>   7/2/2013</td>\n",
        "    </tr>\n",
        "    <tr>\n",
        "      <th>1</th>\n",
        "      <td> 1100170109835</td>\n",
        "      <td> 691051</td>\n",
        "      <td> 10546</td>\n",
        "      <td> Active</td>\n",
        "      <td> Alameda</td>\n",
        "      <td> Alameda County Office of Education</td>\n",
        "      <td>                           FAME Public Charter</td>\n",
        "      <td> 39899 Balentine Drive, Suite 335</td>\n",
        "      <td> 39899 Balentine Dr., Ste. 335</td>\n",
        "      <td>   Newark</td>\n",
        "      <td>...</td>\n",
        "      <td>   Naeem</td>\n",
        "      <td>  Malik</td>\n",
        "      <td>                            malik@famecharter.org</td>\n",
        "      <td> NaN</td>\n",
        "      <td> NaN</td>\n",
        "      <td> NaN</td>\n",
        "      <td> NaN</td>\n",
        "      <td> NaN</td>\n",
        "      <td> NaN</td>\n",
        "      <td>   7/2/2013</td>\n",
        "    </tr>\n",
        "    <tr>\n",
        "      <th>2</th>\n",
        "      <td> 1100170112607</td>\n",
        "      <td> 691051</td>\n",
        "      <td> 10947</td>\n",
        "      <td> Active</td>\n",
        "      <td> Alameda</td>\n",
        "      <td> Alameda County Office of Education</td>\n",
        "      <td>        Envision Academy for Arts &amp; Technology</td>\n",
        "      <td>              1515 Webster Street</td>\n",
        "      <td>              1515 Webster St.</td>\n",
        "      <td>  Oakland</td>\n",
        "      <td>...</td>\n",
        "      <td> Kirsten</td>\n",
        "      <td>  Grimm</td>\n",
        "      <td>                      kirsten@envisionacademy.org</td>\n",
        "      <td> NaN</td>\n",
        "      <td> NaN</td>\n",
        "      <td> NaN</td>\n",
        "      <td> NaN</td>\n",
        "      <td> NaN</td>\n",
        "      <td> NaN</td>\n",
        "      <td>   9/3/2014</td>\n",
        "    </tr>\n",
        "    <tr>\n",
        "      <th>3</th>\n",
        "      <td> 1100170118489</td>\n",
        "      <td> 691051</td>\n",
        "      <td> 12283</td>\n",
        "      <td> Active</td>\n",
        "      <td> Alameda</td>\n",
        "      <td> Alameda County Office of Education</td>\n",
        "      <td> Aspire California College Preparatory Academy</td>\n",
        "      <td>            2125 Jefferson Avenue</td>\n",
        "      <td>           2125 Jefferson Ave.</td>\n",
        "      <td> Berkeley</td>\n",
        "      <td>...</td>\n",
        "      <td>  Javier</td>\n",
        "      <td>  Cabra</td>\n",
        "      <td>         delphine.sherman@aspirepublicschools.org</td>\n",
        "      <td> NaN</td>\n",
        "      <td> NaN</td>\n",
        "      <td> NaN</td>\n",
        "      <td> NaN</td>\n",
        "      <td> NaN</td>\n",
        "      <td> NaN</td>\n",
        "      <td> 10/31/2014</td>\n",
        "    </tr>\n",
        "    <tr>\n",
        "      <th>4</th>\n",
        "      <td> 1100170123968</td>\n",
        "      <td> 691051</td>\n",
        "      <td> 12844</td>\n",
        "      <td> Active</td>\n",
        "      <td> Alameda</td>\n",
        "      <td> Alameda County Office of Education</td>\n",
        "      <td>       Community School for Creative Education</td>\n",
        "      <td>             8755 Fontaine Street</td>\n",
        "      <td>             8755 Fontaine St.</td>\n",
        "      <td>  Oakland</td>\n",
        "      <td>...</td>\n",
        "      <td> Kathryn</td>\n",
        "      <td> Wilson</td>\n",
        "      <td> kathrynw@communityschoolforcreativeeducation.org</td>\n",
        "      <td> NaN</td>\n",
        "      <td> NaN</td>\n",
        "      <td> NaN</td>\n",
        "      <td> NaN</td>\n",
        "      <td> NaN</td>\n",
        "      <td> NaN</td>\n",
        "      <td>  9/29/2014</td>\n",
        "    </tr>\n",
        "  </tbody>\n",
        "</table>\n",
        "<p>5 rows \u00d7 47 columns</p>\n",
        "</div>"
       ],
       "metadata": {},
       "output_type": "pyout",
       "prompt_number": 4,
       "text": [
        "         CDSCode  NCESDist  NCESSchool StatusType   County  \\\n",
        "0  1100170000000    691051         NaN     Active  Alameda   \n",
        "1  1100170109835    691051       10546     Active  Alameda   \n",
        "2  1100170112607    691051       10947     Active  Alameda   \n",
        "3  1100170118489    691051       12283     Active  Alameda   \n",
        "4  1100170123968    691051       12844     Active  Alameda   \n",
        "\n",
        "                             District  \\\n",
        "0  Alameda County Office of Education   \n",
        "1  Alameda County Office of Education   \n",
        "2  Alameda County Office of Education   \n",
        "3  Alameda County Office of Education   \n",
        "4  Alameda County Office of Education   \n",
        "\n",
        "                                          School  \\\n",
        "0                                            NaN   \n",
        "1                            FAME Public Charter   \n",
        "2         Envision Academy for Arts & Technology   \n",
        "3  Aspire California College Preparatory Academy   \n",
        "4        Community School for Creative Education   \n",
        "\n",
        "                             Street                      StreetAbr      City  \\\n",
        "0            313 West Winton Avenue           313 West Winton Ave.   Hayward   \n",
        "1  39899 Balentine Drive, Suite 335  39899 Balentine Dr., Ste. 335    Newark   \n",
        "2               1515 Webster Street               1515 Webster St.   Oakland   \n",
        "3             2125 Jefferson Avenue            2125 Jefferson Ave.  Berkeley   \n",
        "4              8755 Fontaine Street              8755 Fontaine St.   Oakland   \n",
        "\n",
        "      ...     AdmFName1 AdmLName1  \\\n",
        "0     ...        Sheila    Jordan   \n",
        "1     ...         Naeem     Malik   \n",
        "2     ...       Kirsten     Grimm   \n",
        "3     ...        Javier     Cabra   \n",
        "4     ...       Kathryn    Wilson   \n",
        "\n",
        "                                          AdmEmail1 AdmFName2 AdmLName2  \\\n",
        "0                                  sheilaj@acoe.org       NaN       NaN   \n",
        "1                             malik@famecharter.org       NaN       NaN   \n",
        "2                       kirsten@envisionacademy.org       NaN       NaN   \n",
        "3          delphine.sherman@aspirepublicschools.org       NaN       NaN   \n",
        "4  kathrynw@communityschoolforcreativeeducation.org       NaN       NaN   \n",
        "\n",
        "  AdmEmail2 AdmFName3 AdmLName3  AdmEmail3  LastUpdate  \n",
        "0       NaN       NaN       NaN        NaN    7/2/2013  \n",
        "1       NaN       NaN       NaN        NaN    7/2/2013  \n",
        "2       NaN       NaN       NaN        NaN    9/3/2014  \n",
        "3       NaN       NaN       NaN        NaN  10/31/2014  \n",
        "4       NaN       NaN       NaN        NaN   9/29/2014  \n",
        "\n",
        "[5 rows x 47 columns]"
       ]
      }
     ],
     "prompt_number": 4
    },
    {
     "cell_type": "code",
     "collapsed": false,
     "input": [
      "df_s = df_s.drop(['CDSCode','NCESDist','NCESSchool','StreetAbr','Phone','Ext','Website','OpenDate','ClosedDate','Charter','CharterNum','FundingType','DOC','DOCType','SOC','SOCType','EdOpsCode','EdOpsName','EILCode','EILName','GSoffered','GSserved','AdmFName1','AdmLName1','AdmEmail1','AdmFName2','AdmLName2','AdmEmail2','AdmFName3','AdmLName3','AdmEmail3','LastUpdate'], 1)"
     ],
     "language": "python",
     "metadata": {},
     "outputs": [],
     "prompt_number": 5
    },
    {
     "cell_type": "code",
     "collapsed": false,
     "input": [
      "df1 = df_s.Zip.str.split(\"-\")\n",
      "df1 = df1.dropna()"
     ],
     "language": "python",
     "metadata": {},
     "outputs": [],
     "prompt_number": 6
    },
    {
     "cell_type": "code",
     "collapsed": false,
     "input": [
      "df2 = [[int(column) for column in i[:1]] for i in df1]\n",
      "df3 = pd.DataFrame(df2)\n",
      "df_s.Zip = df3"
     ],
     "language": "python",
     "metadata": {},
     "outputs": [],
     "prompt_number": 7
    },
    {
     "cell_type": "code",
     "collapsed": false,
     "input": [
      "df_s.head()"
     ],
     "language": "python",
     "metadata": {},
     "outputs": [
      {
       "html": [
        "<div style=\"max-height:1000px;max-width:1500px;overflow:auto;\">\n",
        "<table border=\"1\" class=\"dataframe\">\n",
        "  <thead>\n",
        "    <tr style=\"text-align: right;\">\n",
        "      <th></th>\n",
        "      <th>StatusType</th>\n",
        "      <th>County</th>\n",
        "      <th>District</th>\n",
        "      <th>School</th>\n",
        "      <th>Street</th>\n",
        "      <th>City</th>\n",
        "      <th>Zip</th>\n",
        "      <th>State</th>\n",
        "      <th>MailStreet</th>\n",
        "      <th>MailStrAbr</th>\n",
        "      <th>MailCity</th>\n",
        "      <th>MailZip</th>\n",
        "      <th>MailState</th>\n",
        "      <th>Latitude</th>\n",
        "      <th>Longitude</th>\n",
        "    </tr>\n",
        "  </thead>\n",
        "  <tbody>\n",
        "    <tr>\n",
        "      <th>0</th>\n",
        "      <td> Active</td>\n",
        "      <td> Alameda</td>\n",
        "      <td> Alameda County Office of Education</td>\n",
        "      <td>                                           NaN</td>\n",
        "      <td>           313 West Winton Avenue</td>\n",
        "      <td>  Hayward</td>\n",
        "      <td> 94544</td>\n",
        "      <td> CA</td>\n",
        "      <td>           313 West Winton Avenue</td>\n",
        "      <td>          313 West Winton Ave.</td>\n",
        "      <td> Hayward</td>\n",
        "      <td> 94544-1136</td>\n",
        "      <td> CA</td>\n",
        "      <td> 37.658212</td>\n",
        "      <td>-122.09713</td>\n",
        "    </tr>\n",
        "    <tr>\n",
        "      <th>1</th>\n",
        "      <td> Active</td>\n",
        "      <td> Alameda</td>\n",
        "      <td> Alameda County Office of Education</td>\n",
        "      <td>                           FAME Public Charter</td>\n",
        "      <td> 39899 Balentine Drive, Suite 335</td>\n",
        "      <td>   Newark</td>\n",
        "      <td> 94560</td>\n",
        "      <td> CA</td>\n",
        "      <td> 39899 Balentine Drive, Suite 335</td>\n",
        "      <td> 39899 Balentine Dr., Ste. 335</td>\n",
        "      <td>  Newark</td>\n",
        "      <td> 94560-5359</td>\n",
        "      <td> CA</td>\n",
        "      <td> 37.521970</td>\n",
        "      <td>-121.99260</td>\n",
        "    </tr>\n",
        "    <tr>\n",
        "      <th>2</th>\n",
        "      <td> Active</td>\n",
        "      <td> Alameda</td>\n",
        "      <td> Alameda County Office of Education</td>\n",
        "      <td>        Envision Academy for Arts &amp; Technology</td>\n",
        "      <td>              1515 Webster Street</td>\n",
        "      <td>  Oakland</td>\n",
        "      <td> 94612</td>\n",
        "      <td> CA</td>\n",
        "      <td>              1515 Webster Street</td>\n",
        "      <td>              1515 Webster St.</td>\n",
        "      <td> Oakland</td>\n",
        "      <td>      94612</td>\n",
        "      <td> CA</td>\n",
        "      <td> 37.804520</td>\n",
        "      <td>-122.26815</td>\n",
        "    </tr>\n",
        "    <tr>\n",
        "      <th>3</th>\n",
        "      <td> Active</td>\n",
        "      <td> Alameda</td>\n",
        "      <td> Alameda County Office of Education</td>\n",
        "      <td> Aspire California College Preparatory Academy</td>\n",
        "      <td>            2125 Jefferson Avenue</td>\n",
        "      <td> Berkeley</td>\n",
        "      <td> 94703</td>\n",
        "      <td> CA</td>\n",
        "      <td>      1001 22nd Avenue, Suite 100</td>\n",
        "      <td>      1001 22nd Ave., Ste. 100</td>\n",
        "      <td> Oakland</td>\n",
        "      <td>      94606</td>\n",
        "      <td> CA</td>\n",
        "      <td> 37.868991</td>\n",
        "      <td>-122.27844</td>\n",
        "    </tr>\n",
        "    <tr>\n",
        "      <th>4</th>\n",
        "      <td> Active</td>\n",
        "      <td> Alameda</td>\n",
        "      <td> Alameda County Office of Education</td>\n",
        "      <td>       Community School for Creative Education</td>\n",
        "      <td>             8755 Fontaine Street</td>\n",
        "      <td>  Oakland</td>\n",
        "      <td> 94605</td>\n",
        "      <td> CA</td>\n",
        "      <td>                516 Taylor Avenue</td>\n",
        "      <td>               516 Taylor Ave.</td>\n",
        "      <td> Alameda</td>\n",
        "      <td> 94501-3411</td>\n",
        "      <td> CA</td>\n",
        "      <td> 37.762988</td>\n",
        "      <td>-122.15168</td>\n",
        "    </tr>\n",
        "  </tbody>\n",
        "</table>\n",
        "</div>"
       ],
       "metadata": {},
       "output_type": "pyout",
       "prompt_number": 8,
       "text": [
        "  StatusType   County                            District  \\\n",
        "0     Active  Alameda  Alameda County Office of Education   \n",
        "1     Active  Alameda  Alameda County Office of Education   \n",
        "2     Active  Alameda  Alameda County Office of Education   \n",
        "3     Active  Alameda  Alameda County Office of Education   \n",
        "4     Active  Alameda  Alameda County Office of Education   \n",
        "\n",
        "                                          School  \\\n",
        "0                                            NaN   \n",
        "1                            FAME Public Charter   \n",
        "2         Envision Academy for Arts & Technology   \n",
        "3  Aspire California College Preparatory Academy   \n",
        "4        Community School for Creative Education   \n",
        "\n",
        "                             Street      City    Zip State  \\\n",
        "0            313 West Winton Avenue   Hayward  94544    CA   \n",
        "1  39899 Balentine Drive, Suite 335    Newark  94560    CA   \n",
        "2               1515 Webster Street   Oakland  94612    CA   \n",
        "3             2125 Jefferson Avenue  Berkeley  94703    CA   \n",
        "4              8755 Fontaine Street   Oakland  94605    CA   \n",
        "\n",
        "                         MailStreet                     MailStrAbr MailCity  \\\n",
        "0            313 West Winton Avenue           313 West Winton Ave.  Hayward   \n",
        "1  39899 Balentine Drive, Suite 335  39899 Balentine Dr., Ste. 335   Newark   \n",
        "2               1515 Webster Street               1515 Webster St.  Oakland   \n",
        "3       1001 22nd Avenue, Suite 100       1001 22nd Ave., Ste. 100  Oakland   \n",
        "4                 516 Taylor Avenue                516 Taylor Ave.  Alameda   \n",
        "\n",
        "      MailZip MailState   Latitude  Longitude  \n",
        "0  94544-1136        CA  37.658212 -122.09713  \n",
        "1  94560-5359        CA  37.521970 -121.99260  \n",
        "2       94612        CA  37.804520 -122.26815  \n",
        "3       94606        CA  37.868991 -122.27844  \n",
        "4  94501-3411        CA  37.762988 -122.15168  "
       ]
      }
     ],
     "prompt_number": 8
    },
    {
     "cell_type": "code",
     "collapsed": false,
     "input": [
      "df_s = pd.merge (df_s, r, left_on = \"School\" ,right_on = \"Schools\")"
     ],
     "language": "python",
     "metadata": {},
     "outputs": [],
     "prompt_number": 9
    },
    {
     "cell_type": "code",
     "collapsed": false,
     "input": [
      "df_s.head()"
     ],
     "language": "python",
     "metadata": {},
     "outputs": [
      {
       "html": [
        "<div style=\"max-height:1000px;max-width:1500px;overflow:auto;\">\n",
        "<table border=\"1\" class=\"dataframe\">\n",
        "  <thead>\n",
        "    <tr style=\"text-align: right;\">\n",
        "      <th></th>\n",
        "      <th>StatusType</th>\n",
        "      <th>County</th>\n",
        "      <th>District</th>\n",
        "      <th>School</th>\n",
        "      <th>Street</th>\n",
        "      <th>City</th>\n",
        "      <th>Zip</th>\n",
        "      <th>State</th>\n",
        "      <th>MailStreet</th>\n",
        "      <th>MailStrAbr</th>\n",
        "      <th>MailCity</th>\n",
        "      <th>MailZip</th>\n",
        "      <th>MailState</th>\n",
        "      <th>Latitude</th>\n",
        "      <th>Longitude</th>\n",
        "      <th>Schools</th>\n",
        "      <th>Ranking</th>\n",
        "      <th>Unnamed: 2</th>\n",
        "    </tr>\n",
        "  </thead>\n",
        "  <tbody>\n",
        "    <tr>\n",
        "      <th>0</th>\n",
        "      <td> Active</td>\n",
        "      <td> Alameda</td>\n",
        "      <td> Alameda County Office of Education</td>\n",
        "      <td>                     FAME Public Charter</td>\n",
        "      <td> 39899 Balentine Drive, Suite 335</td>\n",
        "      <td>  Newark</td>\n",
        "      <td> 94560</td>\n",
        "      <td> CA</td>\n",
        "      <td> 39899 Balentine Drive, Suite 335</td>\n",
        "      <td> 39899 Balentine Dr., Ste. 335</td>\n",
        "      <td>  Newark</td>\n",
        "      <td> 94560-5359</td>\n",
        "      <td> CA</td>\n",
        "      <td> 37.521970</td>\n",
        "      <td>-121.99260</td>\n",
        "      <td>                     FAME Public Charter</td>\n",
        "      <td>  4</td>\n",
        "      <td>NaN</td>\n",
        "    </tr>\n",
        "    <tr>\n",
        "      <th>1</th>\n",
        "      <td> Active</td>\n",
        "      <td> Alameda</td>\n",
        "      <td> Alameda County Office of Education</td>\n",
        "      <td>  Envision Academy for Arts &amp; Technology</td>\n",
        "      <td>              1515 Webster Street</td>\n",
        "      <td> Oakland</td>\n",
        "      <td> 94612</td>\n",
        "      <td> CA</td>\n",
        "      <td>              1515 Webster Street</td>\n",
        "      <td>              1515 Webster St.</td>\n",
        "      <td> Oakland</td>\n",
        "      <td>      94612</td>\n",
        "      <td> CA</td>\n",
        "      <td> 37.804520</td>\n",
        "      <td>-122.26815</td>\n",
        "      <td>  Envision Academy for Arts &amp; Technology</td>\n",
        "      <td>  2</td>\n",
        "      <td>NaN</td>\n",
        "    </tr>\n",
        "    <tr>\n",
        "      <th>2</th>\n",
        "      <td> Active</td>\n",
        "      <td> Alameda</td>\n",
        "      <td> Alameda County Office of Education</td>\n",
        "      <td> Community School for Creative Education</td>\n",
        "      <td>             8755 Fontaine Street</td>\n",
        "      <td> Oakland</td>\n",
        "      <td> 94605</td>\n",
        "      <td> CA</td>\n",
        "      <td>                516 Taylor Avenue</td>\n",
        "      <td>               516 Taylor Ave.</td>\n",
        "      <td> Alameda</td>\n",
        "      <td> 94501-3411</td>\n",
        "      <td> CA</td>\n",
        "      <td> 37.762988</td>\n",
        "      <td>-122.15168</td>\n",
        "      <td> Community School for Creative Education</td>\n",
        "      <td>  1</td>\n",
        "      <td>NaN</td>\n",
        "    </tr>\n",
        "    <tr>\n",
        "      <th>3</th>\n",
        "      <td> Active</td>\n",
        "      <td> Alameda</td>\n",
        "      <td> Alameda County Office of Education</td>\n",
        "      <td>                         Yu Ming Charter</td>\n",
        "      <td>                 321 Tenth Street</td>\n",
        "      <td> Oakland</td>\n",
        "      <td> 94607</td>\n",
        "      <td> CA</td>\n",
        "      <td>             1086 Alcatraz Avenue</td>\n",
        "      <td>            1086 Alcatraz Ave.</td>\n",
        "      <td> Oakland</td>\n",
        "      <td>      94608</td>\n",
        "      <td> CA</td>\n",
        "      <td> 37.800359</td>\n",
        "      <td>-122.26989</td>\n",
        "      <td>                         Yu Ming Charter</td>\n",
        "      <td> 10</td>\n",
        "      <td>NaN</td>\n",
        "    </tr>\n",
        "    <tr>\n",
        "      <th>4</th>\n",
        "      <td> Active</td>\n",
        "      <td> Alameda</td>\n",
        "      <td> Alameda County Office of Education</td>\n",
        "      <td>                Urban Montessori Charter</td>\n",
        "      <td>                5328 Brann Street</td>\n",
        "      <td> Oakland</td>\n",
        "      <td> 94619</td>\n",
        "      <td> CA</td>\n",
        "      <td>                5328 Brann Street</td>\n",
        "      <td>                5328 Brann St.</td>\n",
        "      <td> Oakland</td>\n",
        "      <td>      94619</td>\n",
        "      <td> CA</td>\n",
        "      <td> 37.778352</td>\n",
        "      <td>-122.18950</td>\n",
        "      <td>                Urban Montessori Charter</td>\n",
        "      <td>  1</td>\n",
        "      <td>NaN</td>\n",
        "    </tr>\n",
        "  </tbody>\n",
        "</table>\n",
        "</div>"
       ],
       "metadata": {},
       "output_type": "pyout",
       "prompt_number": 10,
       "text": [
        "  StatusType   County                            District  \\\n",
        "0     Active  Alameda  Alameda County Office of Education   \n",
        "1     Active  Alameda  Alameda County Office of Education   \n",
        "2     Active  Alameda  Alameda County Office of Education   \n",
        "3     Active  Alameda  Alameda County Office of Education   \n",
        "4     Active  Alameda  Alameda County Office of Education   \n",
        "\n",
        "                                    School                            Street  \\\n",
        "0                      FAME Public Charter  39899 Balentine Drive, Suite 335   \n",
        "1   Envision Academy for Arts & Technology               1515 Webster Street   \n",
        "2  Community School for Creative Education              8755 Fontaine Street   \n",
        "3                          Yu Ming Charter                  321 Tenth Street   \n",
        "4                 Urban Montessori Charter                 5328 Brann Street   \n",
        "\n",
        "      City    Zip State                        MailStreet  \\\n",
        "0   Newark  94560    CA  39899 Balentine Drive, Suite 335   \n",
        "1  Oakland  94612    CA               1515 Webster Street   \n",
        "2  Oakland  94605    CA                 516 Taylor Avenue   \n",
        "3  Oakland  94607    CA              1086 Alcatraz Avenue   \n",
        "4  Oakland  94619    CA                 5328 Brann Street   \n",
        "\n",
        "                      MailStrAbr MailCity     MailZip MailState   Latitude  \\\n",
        "0  39899 Balentine Dr., Ste. 335   Newark  94560-5359        CA  37.521970   \n",
        "1               1515 Webster St.  Oakland       94612        CA  37.804520   \n",
        "2                516 Taylor Ave.  Alameda  94501-3411        CA  37.762988   \n",
        "3             1086 Alcatraz Ave.  Oakland       94608        CA  37.800359   \n",
        "4                 5328 Brann St.  Oakland       94619        CA  37.778352   \n",
        "\n",
        "   Longitude                                  Schools Ranking  Unnamed: 2  \n",
        "0 -121.99260                      FAME Public Charter       4         NaN  \n",
        "1 -122.26815   Envision Academy for Arts & Technology       2         NaN  \n",
        "2 -122.15168  Community School for Creative Education       1         NaN  \n",
        "3 -122.26989                          Yu Ming Charter      10         NaN  \n",
        "4 -122.18950                 Urban Montessori Charter       1         NaN  "
       ]
      }
     ],
     "prompt_number": 10
    },
    {
     "cell_type": "code",
     "collapsed": false,
     "input": [
      "school = df_s.reindex(columns = ['School','Street','City','District','County','State','Zip','Ranking','StatusType','Latitude','Longitude'])"
     ],
     "language": "python",
     "metadata": {},
     "outputs": [],
     "prompt_number": 11
    },
    {
     "cell_type": "code",
     "collapsed": false,
     "input": [
      "school = school[school['StatusType'] != 'Closed']\n",
      "school.head()"
     ],
     "language": "python",
     "metadata": {},
     "outputs": [
      {
       "html": [
        "<div style=\"max-height:1000px;max-width:1500px;overflow:auto;\">\n",
        "<table border=\"1\" class=\"dataframe\">\n",
        "  <thead>\n",
        "    <tr style=\"text-align: right;\">\n",
        "      <th></th>\n",
        "      <th>School</th>\n",
        "      <th>Street</th>\n",
        "      <th>City</th>\n",
        "      <th>District</th>\n",
        "      <th>County</th>\n",
        "      <th>State</th>\n",
        "      <th>Zip</th>\n",
        "      <th>Ranking</th>\n",
        "      <th>StatusType</th>\n",
        "      <th>Latitude</th>\n",
        "      <th>Longitude</th>\n",
        "    </tr>\n",
        "  </thead>\n",
        "  <tbody>\n",
        "    <tr>\n",
        "      <th>0</th>\n",
        "      <td>                     FAME Public Charter</td>\n",
        "      <td> 39899 Balentine Drive, Suite 335</td>\n",
        "      <td>  Newark</td>\n",
        "      <td> Alameda County Office of Education</td>\n",
        "      <td> Alameda</td>\n",
        "      <td> CA</td>\n",
        "      <td> 94560</td>\n",
        "      <td>  4</td>\n",
        "      <td> Active</td>\n",
        "      <td> 37.521970</td>\n",
        "      <td>-121.99260</td>\n",
        "    </tr>\n",
        "    <tr>\n",
        "      <th>1</th>\n",
        "      <td>  Envision Academy for Arts &amp; Technology</td>\n",
        "      <td>              1515 Webster Street</td>\n",
        "      <td> Oakland</td>\n",
        "      <td> Alameda County Office of Education</td>\n",
        "      <td> Alameda</td>\n",
        "      <td> CA</td>\n",
        "      <td> 94612</td>\n",
        "      <td>  2</td>\n",
        "      <td> Active</td>\n",
        "      <td> 37.804520</td>\n",
        "      <td>-122.26815</td>\n",
        "    </tr>\n",
        "    <tr>\n",
        "      <th>2</th>\n",
        "      <td> Community School for Creative Education</td>\n",
        "      <td>             8755 Fontaine Street</td>\n",
        "      <td> Oakland</td>\n",
        "      <td> Alameda County Office of Education</td>\n",
        "      <td> Alameda</td>\n",
        "      <td> CA</td>\n",
        "      <td> 94605</td>\n",
        "      <td>  1</td>\n",
        "      <td> Active</td>\n",
        "      <td> 37.762988</td>\n",
        "      <td>-122.15168</td>\n",
        "    </tr>\n",
        "    <tr>\n",
        "      <th>3</th>\n",
        "      <td>                         Yu Ming Charter</td>\n",
        "      <td>                 321 Tenth Street</td>\n",
        "      <td> Oakland</td>\n",
        "      <td> Alameda County Office of Education</td>\n",
        "      <td> Alameda</td>\n",
        "      <td> CA</td>\n",
        "      <td> 94607</td>\n",
        "      <td> 10</td>\n",
        "      <td> Active</td>\n",
        "      <td> 37.800359</td>\n",
        "      <td>-122.26989</td>\n",
        "    </tr>\n",
        "    <tr>\n",
        "      <th>4</th>\n",
        "      <td>                Urban Montessori Charter</td>\n",
        "      <td>                5328 Brann Street</td>\n",
        "      <td> Oakland</td>\n",
        "      <td> Alameda County Office of Education</td>\n",
        "      <td> Alameda</td>\n",
        "      <td> CA</td>\n",
        "      <td> 94619</td>\n",
        "      <td>  1</td>\n",
        "      <td> Active</td>\n",
        "      <td> 37.778352</td>\n",
        "      <td>-122.18950</td>\n",
        "    </tr>\n",
        "  </tbody>\n",
        "</table>\n",
        "</div>"
       ],
       "metadata": {},
       "output_type": "pyout",
       "prompt_number": 12,
       "text": [
        "                                    School                            Street  \\\n",
        "0                      FAME Public Charter  39899 Balentine Drive, Suite 335   \n",
        "1   Envision Academy for Arts & Technology               1515 Webster Street   \n",
        "2  Community School for Creative Education              8755 Fontaine Street   \n",
        "3                          Yu Ming Charter                  321 Tenth Street   \n",
        "4                 Urban Montessori Charter                 5328 Brann Street   \n",
        "\n",
        "      City                            District   County State    Zip Ranking  \\\n",
        "0   Newark  Alameda County Office of Education  Alameda    CA  94560       4   \n",
        "1  Oakland  Alameda County Office of Education  Alameda    CA  94612       2   \n",
        "2  Oakland  Alameda County Office of Education  Alameda    CA  94605       1   \n",
        "3  Oakland  Alameda County Office of Education  Alameda    CA  94607      10   \n",
        "4  Oakland  Alameda County Office of Education  Alameda    CA  94619       1   \n",
        "\n",
        "  StatusType   Latitude  Longitude  \n",
        "0     Active  37.521970 -121.99260  \n",
        "1     Active  37.804520 -122.26815  \n",
        "2     Active  37.762988 -122.15168  \n",
        "3     Active  37.800359 -122.26989  \n",
        "4     Active  37.778352 -122.18950  "
       ]
      }
     ],
     "prompt_number": 12
    },
    {
     "cell_type": "code",
     "collapsed": false,
     "input": [
      "from numpy import nan as NA"
     ],
     "language": "python",
     "metadata": {},
     "outputs": [],
     "prompt_number": 13
    },
    {
     "cell_type": "code",
     "collapsed": false,
     "input": [
      "school['Ranking'] = school['Ranking'].replace('none',NA)\n",
      "school['Ranking'] = school['Ranking'].replace('C',NA)\n",
      "school.head(10)"
     ],
     "language": "python",
     "metadata": {},
     "outputs": [
      {
       "html": [
        "<div style=\"max-height:1000px;max-width:1500px;overflow:auto;\">\n",
        "<table border=\"1\" class=\"dataframe\">\n",
        "  <thead>\n",
        "    <tr style=\"text-align: right;\">\n",
        "      <th></th>\n",
        "      <th>School</th>\n",
        "      <th>Street</th>\n",
        "      <th>City</th>\n",
        "      <th>District</th>\n",
        "      <th>County</th>\n",
        "      <th>State</th>\n",
        "      <th>Zip</th>\n",
        "      <th>Ranking</th>\n",
        "      <th>StatusType</th>\n",
        "      <th>Latitude</th>\n",
        "      <th>Longitude</th>\n",
        "    </tr>\n",
        "  </thead>\n",
        "  <tbody>\n",
        "    <tr>\n",
        "      <th>0</th>\n",
        "      <td>                     FAME Public Charter</td>\n",
        "      <td> 39899 Balentine Drive, Suite 335</td>\n",
        "      <td>      Newark</td>\n",
        "      <td>                Alameda County Office of Education</td>\n",
        "      <td> Alameda</td>\n",
        "      <td> CA</td>\n",
        "      <td> 94560</td>\n",
        "      <td>   4</td>\n",
        "      <td> Active</td>\n",
        "      <td> 37.521970</td>\n",
        "      <td>-121.99260</td>\n",
        "    </tr>\n",
        "    <tr>\n",
        "      <th>1</th>\n",
        "      <td>  Envision Academy for Arts &amp; Technology</td>\n",
        "      <td>              1515 Webster Street</td>\n",
        "      <td>     Oakland</td>\n",
        "      <td>                Alameda County Office of Education</td>\n",
        "      <td> Alameda</td>\n",
        "      <td> CA</td>\n",
        "      <td> 94612</td>\n",
        "      <td>   2</td>\n",
        "      <td> Active</td>\n",
        "      <td> 37.804520</td>\n",
        "      <td>-122.26815</td>\n",
        "    </tr>\n",
        "    <tr>\n",
        "      <th>2</th>\n",
        "      <td> Community School for Creative Education</td>\n",
        "      <td>             8755 Fontaine Street</td>\n",
        "      <td>     Oakland</td>\n",
        "      <td>                Alameda County Office of Education</td>\n",
        "      <td> Alameda</td>\n",
        "      <td> CA</td>\n",
        "      <td> 94605</td>\n",
        "      <td>   1</td>\n",
        "      <td> Active</td>\n",
        "      <td> 37.762988</td>\n",
        "      <td>-122.15168</td>\n",
        "    </tr>\n",
        "    <tr>\n",
        "      <th>3</th>\n",
        "      <td>                         Yu Ming Charter</td>\n",
        "      <td>                 321 Tenth Street</td>\n",
        "      <td>     Oakland</td>\n",
        "      <td>                Alameda County Office of Education</td>\n",
        "      <td> Alameda</td>\n",
        "      <td> CA</td>\n",
        "      <td> 94607</td>\n",
        "      <td>  10</td>\n",
        "      <td> Active</td>\n",
        "      <td> 37.800359</td>\n",
        "      <td>-122.26989</td>\n",
        "    </tr>\n",
        "    <tr>\n",
        "      <th>4</th>\n",
        "      <td>                Urban Montessori Charter</td>\n",
        "      <td>                5328 Brann Street</td>\n",
        "      <td>     Oakland</td>\n",
        "      <td>                Alameda County Office of Education</td>\n",
        "      <td> Alameda</td>\n",
        "      <td> CA</td>\n",
        "      <td> 94619</td>\n",
        "      <td>   1</td>\n",
        "      <td> Active</td>\n",
        "      <td> 37.778352</td>\n",
        "      <td>-122.18950</td>\n",
        "    </tr>\n",
        "    <tr>\n",
        "      <th>5</th>\n",
        "      <td>      Alameda County Juvenile Hall/Court</td>\n",
        "      <td>             2500 Fairmont Avenue</td>\n",
        "      <td> San Leandro</td>\n",
        "      <td>                Alameda County Office of Education</td>\n",
        "      <td> Alameda</td>\n",
        "      <td> CA</td>\n",
        "      <td> 94578</td>\n",
        "      <td> NaN</td>\n",
        "      <td> Active</td>\n",
        "      <td> 37.712878</td>\n",
        "      <td>-122.11173</td>\n",
        "    </tr>\n",
        "    <tr>\n",
        "      <th>6</th>\n",
        "      <td>                Alameda County Community</td>\n",
        "      <td>           313 West Winton Avenue</td>\n",
        "      <td>     Hayward</td>\n",
        "      <td>                Alameda County Office of Education</td>\n",
        "      <td> Alameda</td>\n",
        "      <td> CA</td>\n",
        "      <td> 94544</td>\n",
        "      <td> NaN</td>\n",
        "      <td> Active</td>\n",
        "      <td> 37.658212</td>\n",
        "      <td>-122.09713</td>\n",
        "    </tr>\n",
        "    <tr>\n",
        "      <th>7</th>\n",
        "      <td>                             Cox Academy</td>\n",
        "      <td>            9860 Sunnyside Street</td>\n",
        "      <td>     Oakland</td>\n",
        "      <td>                Alameda County Office of Education</td>\n",
        "      <td> Alameda</td>\n",
        "      <td> CA</td>\n",
        "      <td> 94578</td>\n",
        "      <td>   2</td>\n",
        "      <td> Active</td>\n",
        "      <td> 37.746513</td>\n",
        "      <td>-122.16182</td>\n",
        "    </tr>\n",
        "    <tr>\n",
        "      <th>8</th>\n",
        "      <td>                  Lazear Charter Academy</td>\n",
        "      <td>                  824 29th Avenue</td>\n",
        "      <td>     Oakland</td>\n",
        "      <td>                Alameda County Office of Education</td>\n",
        "      <td> Alameda</td>\n",
        "      <td> CA</td>\n",
        "      <td> 94578</td>\n",
        "      <td>   2</td>\n",
        "      <td> Active</td>\n",
        "      <td> 37.776239</td>\n",
        "      <td>-122.23207</td>\n",
        "    </tr>\n",
        "    <tr>\n",
        "      <th>9</th>\n",
        "      <td>         California School for the Blind</td>\n",
        "      <td>                500 Walnut Avenue</td>\n",
        "      <td>     Fremont</td>\n",
        "      <td> California School for the Blind (State Special...</td>\n",
        "      <td> Alameda</td>\n",
        "      <td> CA</td>\n",
        "      <td> 94601</td>\n",
        "      <td> NaN</td>\n",
        "      <td> Active</td>\n",
        "      <td> 37.562576</td>\n",
        "      <td>-121.96563</td>\n",
        "    </tr>\n",
        "  </tbody>\n",
        "</table>\n",
        "</div>"
       ],
       "metadata": {},
       "output_type": "pyout",
       "prompt_number": 14,
       "text": [
        "                                    School                            Street  \\\n",
        "0                      FAME Public Charter  39899 Balentine Drive, Suite 335   \n",
        "1   Envision Academy for Arts & Technology               1515 Webster Street   \n",
        "2  Community School for Creative Education              8755 Fontaine Street   \n",
        "3                          Yu Ming Charter                  321 Tenth Street   \n",
        "4                 Urban Montessori Charter                 5328 Brann Street   \n",
        "5       Alameda County Juvenile Hall/Court              2500 Fairmont Avenue   \n",
        "6                 Alameda County Community            313 West Winton Avenue   \n",
        "7                              Cox Academy             9860 Sunnyside Street   \n",
        "8                   Lazear Charter Academy                   824 29th Avenue   \n",
        "9          California School for the Blind                 500 Walnut Avenue   \n",
        "\n",
        "          City                                           District   County  \\\n",
        "0       Newark                 Alameda County Office of Education  Alameda   \n",
        "1      Oakland                 Alameda County Office of Education  Alameda   \n",
        "2      Oakland                 Alameda County Office of Education  Alameda   \n",
        "3      Oakland                 Alameda County Office of Education  Alameda   \n",
        "4      Oakland                 Alameda County Office of Education  Alameda   \n",
        "5  San Leandro                 Alameda County Office of Education  Alameda   \n",
        "6      Hayward                 Alameda County Office of Education  Alameda   \n",
        "7      Oakland                 Alameda County Office of Education  Alameda   \n",
        "8      Oakland                 Alameda County Office of Education  Alameda   \n",
        "9      Fremont  California School for the Blind (State Special...  Alameda   \n",
        "\n",
        "  State    Zip Ranking StatusType   Latitude  Longitude  \n",
        "0    CA  94560       4     Active  37.521970 -121.99260  \n",
        "1    CA  94612       2     Active  37.804520 -122.26815  \n",
        "2    CA  94605       1     Active  37.762988 -122.15168  \n",
        "3    CA  94607      10     Active  37.800359 -122.26989  \n",
        "4    CA  94619       1     Active  37.778352 -122.18950  \n",
        "5    CA  94578     NaN     Active  37.712878 -122.11173  \n",
        "6    CA  94544     NaN     Active  37.658212 -122.09713  \n",
        "7    CA  94578       2     Active  37.746513 -122.16182  \n",
        "8    CA  94578       2     Active  37.776239 -122.23207  \n",
        "9    CA  94601     NaN     Active  37.562576 -121.96563  "
       ]
      }
     ],
     "prompt_number": 14
    },
    {
     "cell_type": "code",
     "collapsed": false,
     "input": [
      "#need to replace none and C in Ranking with NaN"
     ],
     "language": "python",
     "metadata": {},
     "outputs": [],
     "prompt_number": 15
    },
    {
     "cell_type": "code",
     "collapsed": false,
     "input": [
      "school.to_csv('Cleaned_Data\\school.csv', index = False)"
     ],
     "language": "python",
     "metadata": {},
     "outputs": [],
     "prompt_number": 16
    },
    {
     "cell_type": "code",
     "collapsed": false,
     "input": [
      "#-----------------------------OPD SCV CleanUp------------------------------#"
     ],
     "language": "python",
     "metadata": {},
     "outputs": [],
     "prompt_number": 17
    },
    {
     "cell_type": "code",
     "collapsed": false,
     "input": [
      "opd = pd.read_csv('Raw_Data\\OPD_140215.csv')"
     ],
     "language": "python",
     "metadata": {},
     "outputs": [],
     "prompt_number": 18
    },
    {
     "cell_type": "code",
     "collapsed": false,
     "input": [
      "df_opd = pd.DataFrame(opd)\n",
      "df_opd.head()"
     ],
     "language": "python",
     "metadata": {},
     "outputs": [
      {
       "html": [
        "<div style=\"max-height:1000px;max-width:1500px;overflow:auto;\">\n",
        "<table border=\"1\" class=\"dataframe\">\n",
        "  <thead>\n",
        "    <tr style=\"text-align: right;\">\n",
        "      <th></th>\n",
        "      <th>Idx</th>\n",
        "      <th>OPD_RD</th>\n",
        "      <th>OIdx</th>\n",
        "      <th>Date</th>\n",
        "      <th>Time</th>\n",
        "      <th>CType</th>\n",
        "      <th>Desc</th>\n",
        "      <th>Beat</th>\n",
        "      <th>Addr</th>\n",
        "      <th>Lat</th>\n",
        "      <th>Long</th>\n",
        "      <th>UCR</th>\n",
        "      <th>Statute</th>\n",
        "      <th>CrimeCat</th>\n",
        "    </tr>\n",
        "  </thead>\n",
        "  <tbody>\n",
        "    <tr>\n",
        "      <th>0</th>\n",
        "      <td> 1</td>\n",
        "      <td> 00-852753</td>\n",
        "      <td> 1</td>\n",
        "      <td> 2008-07-18</td>\n",
        "      <td> 06:00:00</td>\n",
        "      <td>              BURG - AUTO</td>\n",
        "      <td>                     BURGLARY-AUTO</td>\n",
        "      <td> 23X</td>\n",
        "      <td> 4000 Alameda Ave, Oakland, CA, 94601</td>\n",
        "      <td> 37.768204</td>\n",
        "      <td>-122.223931</td>\n",
        "      <td>   NaN</td>\n",
        "      <td> PC_459</td>\n",
        "      <td>       LARCENY_BURGLARY_AUTO</td>\n",
        "    </tr>\n",
        "    <tr>\n",
        "      <th>1</th>\n",
        "      <td> 2</td>\n",
        "      <td> 01-015068</td>\n",
        "      <td> 1</td>\n",
        "      <td> 2010-02-24</td>\n",
        "      <td> 00:00:00</td>\n",
        "      <td> FORGERY &amp; COUNTERFEITING</td>\n",
        "      <td>        MAKE/PASS FICTITIOUS CHECK</td>\n",
        "      <td> 02X</td>\n",
        "      <td>                        900 MARKET ST</td>\n",
        "      <td> 37.803431</td>\n",
        "      <td>-122.281701</td>\n",
        "      <td>    31</td>\n",
        "      <td> PC_476</td>\n",
        "      <td> LARCENY_FORGERY-COUNTERFEIT</td>\n",
        "    </tr>\n",
        "    <tr>\n",
        "      <th>2</th>\n",
        "      <td> 3</td>\n",
        "      <td> 01-053413</td>\n",
        "      <td> 1</td>\n",
        "      <td> 2010-09-28</td>\n",
        "      <td> 00:00:00</td>\n",
        "      <td>                    OTHER</td>\n",
        "      <td>                       GRAND THEFT</td>\n",
        "      <td> NaN</td>\n",
        "      <td>                                  NaN</td>\n",
        "      <td>       NaN</td>\n",
        "      <td>        NaN</td>\n",
        "      <td> 16(~)</td>\n",
        "      <td> PC_487</td>\n",
        "      <td>                         NaN</td>\n",
        "    </tr>\n",
        "    <tr>\n",
        "      <th>3</th>\n",
        "      <td> 4</td>\n",
        "      <td> 01-666666</td>\n",
        "      <td> 1</td>\n",
        "      <td> 2009-06-23</td>\n",
        "      <td> 00:00:00</td>\n",
        "      <td>      MISDEMEANOR ASSAULT</td>\n",
        "      <td>                 DISTURB THE PEACE</td>\n",
        "      <td> 22X</td>\n",
        "      <td> 4028 Whittle Ave, Oakland, CA, 94602</td>\n",
        "      <td> 37.805758</td>\n",
        "      <td>-122.209066</td>\n",
        "      <td>    54</td>\n",
        "      <td> PC_415</td>\n",
        "      <td>  QUALITY_DISORDERLY-CONDUCT</td>\n",
        "    </tr>\n",
        "    <tr>\n",
        "      <th>4</th>\n",
        "      <td> 5</td>\n",
        "      <td> 02-093970</td>\n",
        "      <td> 0</td>\n",
        "      <td> 2007-05-18</td>\n",
        "      <td> 11:00:00</td>\n",
        "      <td>      MISDEMEANOR WARRANT</td>\n",
        "      <td> MISDEMEANOR BENCH WARRANT - LOCAL</td>\n",
        "      <td> 99X</td>\n",
        "      <td>                                  NaN</td>\n",
        "      <td>       NaN</td>\n",
        "      <td>        NaN</td>\n",
        "      <td>   NaN</td>\n",
        "      <td>    NaN</td>\n",
        "      <td>   COURT_WARRANT_MISDEMEANOR</td>\n",
        "    </tr>\n",
        "  </tbody>\n",
        "</table>\n",
        "</div>"
       ],
       "metadata": {},
       "output_type": "pyout",
       "prompt_number": 19,
       "text": [
        "   Idx     OPD_RD  OIdx        Date      Time                     CType  \\\n",
        "0    1  00-852753     1  2008-07-18  06:00:00               BURG - AUTO   \n",
        "1    2  01-015068     1  2010-02-24  00:00:00  FORGERY & COUNTERFEITING   \n",
        "2    3  01-053413     1  2010-09-28  00:00:00                     OTHER   \n",
        "3    4  01-666666     1  2009-06-23  00:00:00       MISDEMEANOR ASSAULT   \n",
        "4    5  02-093970     0  2007-05-18  11:00:00       MISDEMEANOR WARRANT   \n",
        "\n",
        "                                Desc Beat  \\\n",
        "0                      BURGLARY-AUTO  23X   \n",
        "1         MAKE/PASS FICTITIOUS CHECK  02X   \n",
        "2                        GRAND THEFT  NaN   \n",
        "3                  DISTURB THE PEACE  22X   \n",
        "4  MISDEMEANOR BENCH WARRANT - LOCAL  99X   \n",
        "\n",
        "                                   Addr        Lat        Long    UCR Statute  \\\n",
        "0  4000 Alameda Ave, Oakland, CA, 94601  37.768204 -122.223931    NaN  PC_459   \n",
        "1                         900 MARKET ST  37.803431 -122.281701     31  PC_476   \n",
        "2                                   NaN        NaN         NaN  16(~)  PC_487   \n",
        "3  4028 Whittle Ave, Oakland, CA, 94602  37.805758 -122.209066     54  PC_415   \n",
        "4                                   NaN        NaN         NaN    NaN     NaN   \n",
        "\n",
        "                      CrimeCat  \n",
        "0        LARCENY_BURGLARY_AUTO  \n",
        "1  LARCENY_FORGERY-COUNTERFEIT  \n",
        "2                          NaN  \n",
        "3   QUALITY_DISORDERLY-CONDUCT  \n",
        "4    COURT_WARRANT_MISDEMEANOR  "
       ]
      }
     ],
     "prompt_number": 19
    },
    {
     "cell_type": "code",
     "collapsed": false,
     "input": [
      "df_opd = df_opd.drop(['Idx','OPD_RD','OIdx','Beat','UCR','Statute'], 1)"
     ],
     "language": "python",
     "metadata": {},
     "outputs": [],
     "prompt_number": 20
    },
    {
     "cell_type": "code",
     "collapsed": false,
     "input": [
      "df_opd.head()"
     ],
     "language": "python",
     "metadata": {},
     "outputs": [
      {
       "html": [
        "<div style=\"max-height:1000px;max-width:1500px;overflow:auto;\">\n",
        "<table border=\"1\" class=\"dataframe\">\n",
        "  <thead>\n",
        "    <tr style=\"text-align: right;\">\n",
        "      <th></th>\n",
        "      <th>Date</th>\n",
        "      <th>Time</th>\n",
        "      <th>CType</th>\n",
        "      <th>Desc</th>\n",
        "      <th>Addr</th>\n",
        "      <th>Lat</th>\n",
        "      <th>Long</th>\n",
        "      <th>CrimeCat</th>\n",
        "    </tr>\n",
        "  </thead>\n",
        "  <tbody>\n",
        "    <tr>\n",
        "      <th>0</th>\n",
        "      <td> 2008-07-18</td>\n",
        "      <td> 06:00:00</td>\n",
        "      <td>              BURG - AUTO</td>\n",
        "      <td>                     BURGLARY-AUTO</td>\n",
        "      <td> 4000 Alameda Ave, Oakland, CA, 94601</td>\n",
        "      <td> 37.768204</td>\n",
        "      <td>-122.223931</td>\n",
        "      <td>       LARCENY_BURGLARY_AUTO</td>\n",
        "    </tr>\n",
        "    <tr>\n",
        "      <th>1</th>\n",
        "      <td> 2010-02-24</td>\n",
        "      <td> 00:00:00</td>\n",
        "      <td> FORGERY &amp; COUNTERFEITING</td>\n",
        "      <td>        MAKE/PASS FICTITIOUS CHECK</td>\n",
        "      <td>                        900 MARKET ST</td>\n",
        "      <td> 37.803431</td>\n",
        "      <td>-122.281701</td>\n",
        "      <td> LARCENY_FORGERY-COUNTERFEIT</td>\n",
        "    </tr>\n",
        "    <tr>\n",
        "      <th>2</th>\n",
        "      <td> 2010-09-28</td>\n",
        "      <td> 00:00:00</td>\n",
        "      <td>                    OTHER</td>\n",
        "      <td>                       GRAND THEFT</td>\n",
        "      <td>                                  NaN</td>\n",
        "      <td>       NaN</td>\n",
        "      <td>        NaN</td>\n",
        "      <td>                         NaN</td>\n",
        "    </tr>\n",
        "    <tr>\n",
        "      <th>3</th>\n",
        "      <td> 2009-06-23</td>\n",
        "      <td> 00:00:00</td>\n",
        "      <td>      MISDEMEANOR ASSAULT</td>\n",
        "      <td>                 DISTURB THE PEACE</td>\n",
        "      <td> 4028 Whittle Ave, Oakland, CA, 94602</td>\n",
        "      <td> 37.805758</td>\n",
        "      <td>-122.209066</td>\n",
        "      <td>  QUALITY_DISORDERLY-CONDUCT</td>\n",
        "    </tr>\n",
        "    <tr>\n",
        "      <th>4</th>\n",
        "      <td> 2007-05-18</td>\n",
        "      <td> 11:00:00</td>\n",
        "      <td>      MISDEMEANOR WARRANT</td>\n",
        "      <td> MISDEMEANOR BENCH WARRANT - LOCAL</td>\n",
        "      <td>                                  NaN</td>\n",
        "      <td>       NaN</td>\n",
        "      <td>        NaN</td>\n",
        "      <td>   COURT_WARRANT_MISDEMEANOR</td>\n",
        "    </tr>\n",
        "  </tbody>\n",
        "</table>\n",
        "</div>"
       ],
       "metadata": {},
       "output_type": "pyout",
       "prompt_number": 21,
       "text": [
        "         Date      Time                     CType  \\\n",
        "0  2008-07-18  06:00:00               BURG - AUTO   \n",
        "1  2010-02-24  00:00:00  FORGERY & COUNTERFEITING   \n",
        "2  2010-09-28  00:00:00                     OTHER   \n",
        "3  2009-06-23  00:00:00       MISDEMEANOR ASSAULT   \n",
        "4  2007-05-18  11:00:00       MISDEMEANOR WARRANT   \n",
        "\n",
        "                                Desc                                  Addr  \\\n",
        "0                      BURGLARY-AUTO  4000 Alameda Ave, Oakland, CA, 94601   \n",
        "1         MAKE/PASS FICTITIOUS CHECK                         900 MARKET ST   \n",
        "2                        GRAND THEFT                                   NaN   \n",
        "3                  DISTURB THE PEACE  4028 Whittle Ave, Oakland, CA, 94602   \n",
        "4  MISDEMEANOR BENCH WARRANT - LOCAL                                   NaN   \n",
        "\n",
        "         Lat        Long                     CrimeCat  \n",
        "0  37.768204 -122.223931        LARCENY_BURGLARY_AUTO  \n",
        "1  37.803431 -122.281701  LARCENY_FORGERY-COUNTERFEIT  \n",
        "2        NaN         NaN                          NaN  \n",
        "3  37.805758 -122.209066   QUALITY_DISORDERLY-CONDUCT  \n",
        "4        NaN         NaN    COURT_WARRANT_MISDEMEANOR  "
       ]
      }
     ],
     "prompt_number": 21
    },
    {
     "cell_type": "code",
     "collapsed": false,
     "input": [
      "df_opd.to_csv('Cleaned_Data\\OPD.csv', index = False)"
     ],
     "language": "python",
     "metadata": {},
     "outputs": [],
     "prompt_number": 22
    },
    {
     "cell_type": "markdown",
     "metadata": {},
     "source": [
      "#Cleanup_Median_Home_Prices\n",
      "This program is for cleaning up the dataset from Zillow.com (http://www.zillow.com/research/data/) that provides median home prices for all zip codes in the USA.\n",
      "Source file name: Zip_MedianSoldPrice_AllHomes Output file name: Zip_MedianSoldPrice_Alameda\n",
      "\n",
      "Cleanup done:\n",
      "Drop the columns: State, and Metro columns\n",
      "Drop all data for period from 1996 to 2012\n",
      "Filter the output to have only Alameda County data\n",
      "Create an output file after carrying out the cleanup\n",
      "\n",
      "Note:\n",
      "The output file has blank values for some of the median prices. We are still retaining such rows at this time. We are planning to programmatically handle such rows in our data analysis to give a message that \"No median prices found\"."
     ]
    },
    {
     "cell_type": "code",
     "collapsed": false,
     "input": [
      "# Import Zip_MedianSoldPrice_AllHomes.csv file\n",
      "from pandas import read_csv, DataFrame\n",
      "Zip_Median = read_csv('Raw_Data\\Zip_MedianSoldPrice_AllHomes.csv')\n",
      "Zip_Median.columns = ['RegionName','City','State','Metro','CountyName','1996-04','1996-05','1996-06','1996-07','1996-08','1996-09','1996-10','1996-11','1996-12','1997-01','1997-02','1997-03','1997-04','1997-05','1997-06','1997-07','1997-08','1997-09','1997-10','1997-11','1997-12','1998-01','1998-02','1998-03','1998-04','1998-05','1998-06','1998-07','1998-08','1998-09','1998-10','1998-11','1998-12','1999-01','1999-02','1999-03','1999-04','1999-05','1999-06','1999-07','1999-08','1999-09','1999-10','1999-11','1999-12','2000-01','2000-02','2000-03','2000-04','2000-05','2000-06','2000-07','2000-08','2000-09','2000-10','2000-11','2000-12','2001-01','2001-02','2001-03','2001-04','2001-05','2001-06','2001-07','2001-08','2001-09','2001-10','2001-11','2001-12','2002-01','2002-02','2002-03','2002-04','2002-05','2002-06','2002-07','2002-08','2002-09','2002-10','2002-11','2002-12','2003-01','2003-02','2003-03','2003-04','2003-05','2003-06','2003-07','2003-08','2003-09','2003-10','2003-11','2003-12','2004-01','2004-02','2004-03','2004-04','2004-05','2004-06','2004-07','2004-08','2004-09','2004-10','2004-11','2004-12','2005-01','2005-02','2005-03','2005-04','2005-05','2005-06','2005-07','2005-08','2005-09','2005-10','2005-11','2005-12','2006-01','2006-02','2006-03','2006-04','2006-05','2006-06','2006-07','2006-08','2006-09','2006-10','2006-11','2006-12','2007-01','2007-02','2007-03','2007-04','2007-05','2007-06','2007-07','2007-08','2007-09','2007-10','2007-11','2007-12','2008-01','2008-02','2008-03','2008-04','2008-05','2008-06','2008-07','2008-08','2008-09','2008-10','2008-11','2008-12','2009-01','2009-02','2009-03','2009-04','2009-05','2009-06','2009-07','2009-08','2009-09','2009-10','2009-11','2009-12','2010-01','2010-02','2010-03','2010-04','2010-05','2010-06','2010-07','2010-08','2010-09','2010-10','2010-11','2010-12','2011-01','2011-02','2011-03','2011-04','2011-05','2011-06','2011-07','2011-08','2011-09','2011-10','2011-11','2011-12','2012-01','2012-02','2012-03','2012-04','2012-05','2012-06','2012-07','2012-08','2012-09','2012-10','2012-11','2012-12','2013-01','2013-02','2013-03','2013-04','2013-05','2013-06','2013-07','2013-08','2013-09','2013-10','2013-11','2013-12','2014-01','2014-02','2014-03','2014-04','2014-05','2014-06','2014-07','2014-08','2014-09','2014-10']\n",
      "Zip_Median.head()"
     ],
     "language": "python",
     "metadata": {},
     "outputs": [
      {
       "html": [
        "<div style=\"max-height:1000px;max-width:1500px;overflow:auto;\">\n",
        "<table border=\"1\" class=\"dataframe\">\n",
        "  <thead>\n",
        "    <tr style=\"text-align: right;\">\n",
        "      <th></th>\n",
        "      <th>RegionName</th>\n",
        "      <th>City</th>\n",
        "      <th>State</th>\n",
        "      <th>Metro</th>\n",
        "      <th>CountyName</th>\n",
        "      <th>1996-04</th>\n",
        "      <th>1996-05</th>\n",
        "      <th>1996-06</th>\n",
        "      <th>1996-07</th>\n",
        "      <th>1996-08</th>\n",
        "      <th>...</th>\n",
        "      <th>2014-01</th>\n",
        "      <th>2014-02</th>\n",
        "      <th>2014-03</th>\n",
        "      <th>2014-04</th>\n",
        "      <th>2014-05</th>\n",
        "      <th>2014-06</th>\n",
        "      <th>2014-07</th>\n",
        "      <th>2014-08</th>\n",
        "      <th>2014-09</th>\n",
        "      <th>2014-10</th>\n",
        "    </tr>\n",
        "  </thead>\n",
        "  <tbody>\n",
        "    <tr>\n",
        "      <th>0</th>\n",
        "      <td> 10025</td>\n",
        "      <td> New York</td>\n",
        "      <td> NY</td>\n",
        "      <td> New York</td>\n",
        "      <td> New York</td>\n",
        "      <td> 175000.0000</td>\n",
        "      <td>    NaN</td>\n",
        "      <td>    NaN</td>\n",
        "      <td>    NaN</td>\n",
        "      <td> 140000</td>\n",
        "      <td>...</td>\n",
        "      <td> 781100.00</td>\n",
        "      <td> 805636.50</td>\n",
        "      <td> 772435.05</td>\n",
        "      <td> 758871.45</td>\n",
        "      <td> 756500.0</td>\n",
        "      <td> 864750</td>\n",
        "      <td> 802250</td>\n",
        "      <td> 888150.0</td>\n",
        "      <td> 830950.00</td>\n",
        "      <td> 848650.00</td>\n",
        "    </tr>\n",
        "    <tr>\n",
        "      <th>1</th>\n",
        "      <td> 60657</td>\n",
        "      <td>  Chicago</td>\n",
        "      <td> IL</td>\n",
        "      <td>  Chicago</td>\n",
        "      <td>     Cook</td>\n",
        "      <td> 137911.7647</td>\n",
        "      <td> 137900</td>\n",
        "      <td> 133925</td>\n",
        "      <td> 141700</td>\n",
        "      <td> 144600</td>\n",
        "      <td>...</td>\n",
        "      <td> 371750.00</td>\n",
        "      <td> 385750.00</td>\n",
        "      <td> 379975.00</td>\n",
        "      <td> 387150.00</td>\n",
        "      <td> 393250.0</td>\n",
        "      <td> 411125</td>\n",
        "      <td> 414575</td>\n",
        "      <td> 385375.0</td>\n",
        "      <td> 391050.00</td>\n",
        "      <td> 390250.00</td>\n",
        "    </tr>\n",
        "    <tr>\n",
        "      <th>2</th>\n",
        "      <td> 10023</td>\n",
        "      <td> New York</td>\n",
        "      <td> NY</td>\n",
        "      <td> New York</td>\n",
        "      <td> New York</td>\n",
        "      <td> 403823.5294</td>\n",
        "      <td> 355025</td>\n",
        "      <td>    NaN</td>\n",
        "      <td> 264100</td>\n",
        "      <td> 253900</td>\n",
        "      <td>...</td>\n",
        "      <td> 899680.00</td>\n",
        "      <td> 852220.00</td>\n",
        "      <td> 807500.00</td>\n",
        "      <td> 835250.00</td>\n",
        "      <td> 876250.0</td>\n",
        "      <td> 883750</td>\n",
        "      <td> 876250</td>\n",
        "      <td> 906690.5</td>\n",
        "      <td> 959658.35</td>\n",
        "      <td> 958682.15</td>\n",
        "    </tr>\n",
        "    <tr>\n",
        "      <th>3</th>\n",
        "      <td> 60614</td>\n",
        "      <td>  Chicago</td>\n",
        "      <td> IL</td>\n",
        "      <td>  Chicago</td>\n",
        "      <td>     Cook</td>\n",
        "      <td> 168250.0000</td>\n",
        "      <td> 191675</td>\n",
        "      <td> 189250</td>\n",
        "      <td> 183275</td>\n",
        "      <td> 174750</td>\n",
        "      <td>...</td>\n",
        "      <td> 382600.00</td>\n",
        "      <td> 422350.00</td>\n",
        "      <td> 421300.00</td>\n",
        "      <td> 441350.00</td>\n",
        "      <td> 428075.0</td>\n",
        "      <td> 451275</td>\n",
        "      <td> 455900</td>\n",
        "      <td> 438650.0</td>\n",
        "      <td> 457600.00</td>\n",
        "      <td> 460525.00</td>\n",
        "    </tr>\n",
        "    <tr>\n",
        "      <th>4</th>\n",
        "      <td> 10002</td>\n",
        "      <td> New York</td>\n",
        "      <td> NY</td>\n",
        "      <td> New York</td>\n",
        "      <td> New York</td>\n",
        "      <td>         NaN</td>\n",
        "      <td>    NaN</td>\n",
        "      <td>    NaN</td>\n",
        "      <td>    NaN</td>\n",
        "      <td>    NaN</td>\n",
        "      <td>...</td>\n",
        "      <td> 537807.85</td>\n",
        "      <td> 582467.65</td>\n",
        "      <td> 566486.00</td>\n",
        "      <td> 564385.20</td>\n",
        "      <td> 596200.8</td>\n",
        "      <td> 594500</td>\n",
        "      <td> 596500</td>\n",
        "      <td> 596250.0</td>\n",
        "      <td> 615000.00</td>\n",
        "      <td> 585000.00</td>\n",
        "    </tr>\n",
        "  </tbody>\n",
        "</table>\n",
        "<p>5 rows \u00d7 228 columns</p>\n",
        "</div>"
       ],
       "metadata": {},
       "output_type": "pyout",
       "prompt_number": 23,
       "text": [
        "   RegionName      City State     Metro CountyName      1996-04  1996-05  \\\n",
        "0       10025  New York    NY  New York   New York  175000.0000      NaN   \n",
        "1       60657   Chicago    IL   Chicago       Cook  137911.7647   137900   \n",
        "2       10023  New York    NY  New York   New York  403823.5294   355025   \n",
        "3       60614   Chicago    IL   Chicago       Cook  168250.0000   191675   \n",
        "4       10002  New York    NY  New York   New York          NaN      NaN   \n",
        "\n",
        "   1996-06  1996-07  1996-08    ...        2014-01    2014-02    2014-03  \\\n",
        "0      NaN      NaN   140000    ...      781100.00  805636.50  772435.05   \n",
        "1   133925   141700   144600    ...      371750.00  385750.00  379975.00   \n",
        "2      NaN   264100   253900    ...      899680.00  852220.00  807500.00   \n",
        "3   189250   183275   174750    ...      382600.00  422350.00  421300.00   \n",
        "4      NaN      NaN      NaN    ...      537807.85  582467.65  566486.00   \n",
        "\n",
        "     2014-04   2014-05  2014-06  2014-07   2014-08    2014-09    2014-10  \n",
        "0  758871.45  756500.0   864750   802250  888150.0  830950.00  848650.00  \n",
        "1  387150.00  393250.0   411125   414575  385375.0  391050.00  390250.00  \n",
        "2  835250.00  876250.0   883750   876250  906690.5  959658.35  958682.15  \n",
        "3  441350.00  428075.0   451275   455900  438650.0  457600.00  460525.00  \n",
        "4  564385.20  596200.8   594500   596500  596250.0  615000.00  585000.00  \n",
        "\n",
        "[5 rows x 228 columns]"
       ]
      }
     ],
     "prompt_number": 23
    },
    {
     "cell_type": "code",
     "collapsed": false,
     "input": [
      "# Create a new dataframe with only required columns\n",
      "Zip_Median_rev = Zip_Median.drop(['State','Metro','1996-04','1996-05','1996-06','1996-07','1996-08','1996-09','1996-10','1996-11','1996-12','1997-01','1997-02','1997-03','1997-04','1997-05','1997-06','1997-07','1997-08','1997-09','1997-10','1997-11','1997-12','1998-01','1998-02','1998-03','1998-04','1998-05','1998-06','1998-07','1998-08','1998-09','1998-10','1998-11','1998-12','1999-01','1999-02','1999-03','1999-04','1999-05','1999-06','1999-07','1999-08','1999-09','1999-10','1999-11','1999-12','2000-01','2000-02','2000-03','2000-04','2000-05','2000-06','2000-07','2000-08','2000-09','2000-10','2000-11','2000-12','2001-01','2001-02','2001-03','2001-04','2001-05','2001-06','2001-07','2001-08','2001-09','2001-10','2001-11','2001-12','2002-01','2002-02','2002-03','2002-04','2002-05','2002-06','2002-07','2002-08','2002-09','2002-10','2002-11','2002-12','2003-01','2003-02','2003-03','2003-04','2003-05','2003-06','2003-07','2003-08','2003-09','2003-10','2003-11','2003-12','2004-01','2004-02','2004-03','2004-04','2004-05','2004-06','2004-07','2004-08','2004-09','2004-10','2004-11','2004-12','2005-01','2005-02','2005-03','2005-04','2005-05','2005-06','2005-07','2005-08','2005-09','2005-10','2005-11','2005-12','2006-01','2006-02','2006-03','2006-04','2006-05','2006-06','2006-07','2006-08','2006-09','2006-10','2006-11','2006-12','2007-01','2007-02','2007-03','2007-04','2007-05','2007-06','2007-07','2007-08','2007-09','2007-10','2007-11','2007-12','2008-01','2008-02','2008-03','2008-04','2008-05','2008-06','2008-07','2008-08','2008-09','2008-10','2008-11','2008-12','2009-01','2009-02','2009-03','2009-04','2009-05','2009-06','2009-07','2009-08','2009-09','2009-10','2009-11','2009-12','2010-01','2010-02','2010-03','2010-04','2010-05','2010-06','2010-07','2010-08','2010-09','2010-10','2010-11','2010-12','2011-01','2011-02','2011-03','2011-04','2011-05','2011-06','2011-07','2011-08','2011-09','2011-10','2011-11','2011-12','2012-01','2012-02','2012-03','2012-04','2012-05','2012-06','2012-07','2012-08','2012-09','2012-10','2012-11','2012-12',],axis=1)\n",
      "#Filter to have onlt Alameda County data\n",
      "Zip_Median_rev = Zip_Median_rev[Zip_Median_rev['CountyName'] == 'Alameda']\n",
      "# Create an output file Zip_MedianSoldPrice_Alameda.csv\n",
      "Zip_Median_rev.to_csv('Cleaned_Data\\Zip_MedianSoldPrice_Alameda.csv',index=False)"
     ],
     "language": "python",
     "metadata": {},
     "outputs": [],
     "prompt_number": 24
    },
    {
     "cell_type": "code",
     "collapsed": false,
     "input": [],
     "language": "python",
     "metadata": {},
     "outputs": [],
     "prompt_number": 24
    },
    {
     "cell_type": "code",
     "collapsed": false,
     "input": [],
     "language": "python",
     "metadata": {},
     "outputs": [],
     "prompt_number": 24
    },
    {
     "cell_type": "code",
     "collapsed": false,
     "input": [],
     "language": "python",
     "metadata": {},
     "outputs": [],
     "prompt_number": 24
    }
   ],
   "metadata": {}
  }
 ]
}