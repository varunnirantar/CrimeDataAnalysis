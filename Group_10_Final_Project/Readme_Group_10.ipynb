{
 "metadata": {
  "kernelspec": {
   "codemirror_mode": {
    "name": "ipython",
    "version": 2
   },
   "display_name": "IPython (Python 2)",
   "language": "python",
   "name": "python2"
  },
  "name": "",
  "signature": "sha256:1c9b586c3b75a34cad5bfe5b3f1fab436ddaf1591945c6bd798f6963747499d0"
 },
 "nbformat": 3,
 "nbformat_minor": 0,
 "worksheets": [
  {
   "cells": [
    {
     "cell_type": "heading",
     "level": 3,
     "metadata": {},
     "source": [
      "Group 10:\n",
      "Dhiraj Naphade\n",
      "Nagarajan Ramsundar\n",
      "Varun Nirantar\n",
      "Kevin Simonich"
     ]
    },
    {
     "cell_type": "heading",
     "level": 3,
     "metadata": {},
     "source": [
      "Alameda County Crime Analysis - Instructions for reviewing:"
     ]
    },
    {
     "cell_type": "heading",
     "level": 3,
     "metadata": {},
     "source": [
      "The purpose of this project is to perform a crime analysis of both Alameda County as a whole (excluding Oakland), along with specific analysis for the city of Oakland individually.\u00b6"
     ]
    },
    {
     "cell_type": "markdown",
     "metadata": {},
     "source": [
      "Following notebooks are used in this:\n",
      "\n",
      "1. Data_Cleanup_to_produce_csv  - is the first program that reads raw datasets and produces cleaned up.\n",
      "2. Database_Load - is the second program that loads the cleaned up datasets and loads into SQLLITE tables.\n",
      "3. Alameda County - is the notebook used for performing data analysis. Once steps 1 & 2 are done, (3) operates independently.\n",
      "\n",
      "Each one of these notebooks have in-line comments that explain further about the code."
     ]
    },
    {
     "cell_type": "code",
     "collapsed": false,
     "input": [],
     "language": "python",
     "metadata": {},
     "outputs": []
    }
   ],
   "metadata": {}
  }
 ]
}